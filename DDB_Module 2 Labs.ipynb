{
 "cells": [
  {
   "cell_type": "markdown",
   "metadata": {},
   "source": [
    "# 2.1.1.6 LAB: The ```print()``` function\n",
    "\n",
    "### Estimated time\n",
    "5-10 minutes\n",
    "\n",
    "### Level of difficulty\n",
    "Very easy\n",
    "\n",
    "### Objectives\n",
    "* becoming familiar with the ```print()``` function and its formatting capabilities;\n",
    "* experimenting with Python code.\n",
    "\n",
    "### Scenario\n",
    "The ```print()``` command, which is one of the easiest directives in Python, simply prints out a line to the screen.\n",
    "\n",
    "In your first lab:\n",
    "\n",
    "* use the ```print()``` function to print the line ```Hello, Python!``` to the screen. Use double quotes around the string;\n",
    "* having done that, use the ```print()``` function again, but this time print your first name;\n",
    "* remove the double quotes and run your code. Watch Python's reaction. What kind of error is thrown?\n",
    "* then, remove the parentheses, put back the double quotes, and run your code again. What kind of error is thrown this time?\n",
    "* experiment as much as you can. Change double quotes to single quotes, use multiple ```print()``` functions on the same line, and then on different lines. See what happens."
   ]
  },
  {
   "cell_type": "code",
   "execution_count": null,
   "metadata": {},
   "outputs": [],
   "source": [
    "print(\"Hello, Python!\")"
   ]
  },
  {
   "cell_type": "code",
   "execution_count": null,
   "metadata": {},
   "outputs": [],
   "source": [
    "print(\"De Kerstman\")"
   ]
  },
  {
   "cell_type": "code",
   "execution_count": null,
   "metadata": {},
   "outputs": [],
   "source": [
    "print(Hello, Python!) # strings moeten tussen enkele of dubbele aanhalingstekens staan, anders volgt er een foutmelding"
   ]
  },
  {
   "cell_type": "code",
   "execution_count": null,
   "metadata": {},
   "outputs": [],
   "source": [
    "print \"Hello, Python!\" # print is een functie, dus de haakjes zijn verplicht"
   ]
  },
  {
   "cell_type": "markdown",
   "metadata": {},
   "source": [
    "# 2.1.1.18 LAB: The print() function\n",
    "\n",
    "### Estimated time\n",
    "5-10 minutes\n",
    "\n",
    "### Level of difficulty\n",
    "Very Easy\n",
    "\n",
    "### Objectives\n",
    "* becoming familiar with the ```print()``` function and its formatting capabilities;\n",
    "* experimenting with Python code.\n",
    "\n",
    "### Scenario\n",
    "Modify the first line of code in the editor, using the ```sep``` and ```end``` keywords, to match the expected output. Use the two ```print()``` functions in the editor.\n",
    "\n",
    "Don't change anything in the second ```print()``` invocation.\n",
    "\n",
    "### Expected output\n",
    "\n",
    "```Programming***Essentials***in...Python```"
   ]
  },
  {
   "cell_type": "code",
   "execution_count": null,
   "metadata": {},
   "outputs": [],
   "source": [
    "print(\"Programming\",\"Essentials\",\"in\")\n",
    "print(\"Python\")"
   ]
  },
  {
   "cell_type": "code",
   "execution_count": null,
   "metadata": {},
   "outputs": [],
   "source": [
    "print(\"Programming\",\"Essentials\",\"in\", sep=\"***\", end=\"...\")\n",
    "print(\"Python\")"
   ]
  },
  {
   "cell_type": "markdown",
   "metadata": {},
   "source": [
    "# 2.1.1.19 LAB: Formatting the output\n",
    "\n",
    "### Estimated time\n",
    "5-15 minutes\n",
    "\n",
    "### Level of difficulty\n",
    "Easy\n",
    "\n",
    "### Objectives\n",
    "* experimenting with existing Python code;\n",
    "* discovering and fixing basic syntax errors;\n",
    "* becoming familiar with the ```print()``` function and its formatting capabilities.\n",
    "\n",
    "### Scenario\n",
    "We strongly encourage you to **play with the code** we've written for you, and make some (maybe even destructive) amendments. Feel free to modify any part of the code, but there is one condition - learn from your mistakes and draw your own conclusions.\n",
    "\n",
    "Try to:\n",
    "\n",
    "* minimize the number of ```print()``` function invocations by inserting the ```\\n``` sequence into the strings\n",
    "* make the arrow twice as large (but keep the proportions)\n",
    "* duplicate the arrow, placing both arrows side by side; note: a string may be multiplied by using the following trick: ```\"string\" *  2``` will produce ```\"stringstring\"``` (we'll tell you more about it soon)\n",
    "* remove any of the quotes, and look carefully at Python's response; pay attention to where Python sees an error - is this the place where the error really exists?\n",
    "* do the same with some of the parentheses;\n",
    "* change any of the ```print``` words into something else, differing only in case (e.g., ```Print```) - what happens now?\n",
    "* replace some of the quotes with apostrophes; watch what happens carefully."
   ]
  },
  {
   "cell_type": "code",
   "execution_count": null,
   "metadata": {},
   "outputs": [],
   "source": [
    "print(\"    *\")\n",
    "print(\"   * *\")\n",
    "print(\"  *   *\")\n",
    "print(\" *     *\")\n",
    "print(\"***   ***\")\n",
    "print(\"  *   *\")\n",
    "print(\"  *   *\")\n",
    "print(\"  *****\")"
   ]
  },
  {
   "cell_type": "code",
   "execution_count": null,
   "metadata": {},
   "outputs": [],
   "source": [
    "print(\"    *\",\"   * *\",\"  *   *\",\" *     *\",\"***   ***\",\"  *   *\",\"  *   *\",\"  *****\", sep=\"\\n\")"
   ]
  },
  {
   "cell_type": "code",
   "execution_count": null,
   "metadata": {},
   "outputs": [],
   "source": [
    "print(\"        *\")\n",
    "print(\"       * *\")\n",
    "print(\"      *   *\")\n",
    "print(\"     *     *\")\n",
    "print(\"    *       *\")\n",
    "print(\"   *         *\")\n",
    "print(\"  *           *\")\n",
    "print(\" *             *\")\n",
    "print(\"******     ******\")\n",
    "print(\"     *     *\")\n",
    "print(\"     *     *\")\n",
    "print(\"     *     *\")\n",
    "print(\"     *     *\")\n",
    "print(\"     *******\")"
   ]
  },
  {
   "cell_type": "code",
   "execution_count": null,
   "metadata": {},
   "outputs": [],
   "source": [
    "print(\"    *    \"*2)\n",
    "print(\"   * *   \"*2)\n",
    "print(\"  *   *  \"*2)\n",
    "print(\" *     * \"*2)\n",
    "print(\"***   ***\"*2)\n",
    "print(\"  *   *  \"*2)\n",
    "print(\"  *   *  \"*2)\n",
    "print(\"  *****  \"*2)"
   ]
  },
  {
   "cell_type": "markdown",
   "metadata": {},
   "source": [
    "# 2.2.1.11 LAB: Python literals - strings\n",
    "\n",
    "### Estimated time\n",
    "5-10 minutes\n",
    "\n",
    "### Level of difficulty\n",
    "Easy\n",
    "\n",
    "### Objectives\n",
    "* becoming familiar with the ```print()``` function and its formatting capabilities;\n",
    "* practicing coding strings;\n",
    "* experimenting with Python code.\n",
    "\n",
    "### Scenario\n",
    "Write a one-line piece of code, using the ```print()``` function, as well as the newline and escape characters, to match the expected result outputted on three lines.\n",
    "\n",
    "### Expected output\n",
    "\n",
    "```\"I'm\"\n",
    "\"\"learning\"\"\n",
    "\"\"\"Python\"\"\"```"
   ]
  },
  {
   "cell_type": "code",
   "execution_count": null,
   "metadata": {},
   "outputs": [],
   "source": [
    "print('\"I\\'m\"\\n\"\"learning\"\"\\n\"\"\"Python\"\"\"')"
   ]
  },
  {
   "cell_type": "markdown",
   "metadata": {},
   "source": [
    "# 2.4.1.7 LAB: Variables\n",
    "\n",
    "### Estimated time\n",
    "10 minutes\n",
    "\n",
    "### Level of difficulty\n",
    "Easy\n",
    "\n",
    "### Objectives\n",
    "* becoming familiar with the concept of storing and working with different data types in Python;\n",
    "* experimenting with Python code.\n",
    "\n",
    "### Scenario\n",
    "Here is a short story:\n",
    "\n",
    "Once upon a time in Appleland, John had three apples, Mary had five apples, and Adam had six apples. They were all very happy and lived for a long time. End of story.\n",
    "\n",
    "Your task is to:\n",
    "\n",
    "* create the variables: ```john```, ```mary```, and ```adam```;\n",
    "* assign values to the variables. The values must be equal to the numbers of fruit possessed by John, Mary, and Adam respectively;\n",
    "* having stored the numbers in the variables, print the variables on one line, and separate each of them with a comma;\n",
    "* now create a new variable named total_apples equal to addition of the three former variables.\n",
    "* print the value stored in total_apples to the console;\n",
    "* experiment with your code: create new variables, assign different values to them, and perform various arithmetic operations on them (e.g., +, -, *, /, //, etc.). Try to print a string and an integer together on one line, e.g., ```\"Total number of apples:\"``` and ```total_apples```."
   ]
  },
  {
   "cell_type": "code",
   "execution_count": null,
   "metadata": {},
   "outputs": [],
   "source": [
    "john = 3\n",
    "mary = 5\n",
    "adam = 6"
   ]
  },
  {
   "cell_type": "code",
   "execution_count": null,
   "metadata": {},
   "outputs": [],
   "source": [
    "print(john, mary, adam, sep=\",\")"
   ]
  },
  {
   "cell_type": "code",
   "execution_count": null,
   "metadata": {},
   "outputs": [],
   "source": [
    "total_apples = john + mary + adam"
   ]
  },
  {
   "cell_type": "code",
   "execution_count": null,
   "metadata": {},
   "outputs": [],
   "source": [
    "print(\"Total number of apples: \", total_apples)"
   ]
  },
  {
   "cell_type": "code",
   "execution_count": null,
   "metadata": {},
   "outputs": [],
   "source": [
    "mean_apples = total_apples / 3\n",
    "print(\"Mean number of apples: \", mean_apples)"
   ]
  },
  {
   "cell_type": "markdown",
   "metadata": {},
   "source": [
    "# 2.4.1.9 LAB: Variables: a simple converter\n",
    "\n",
    "### Estimated time\n",
    "10 minutes\n",
    "\n",
    "### Level of difficulty\n",
    "Easy\n",
    "\n",
    "### Objectives\n",
    "* becoming familiar with the concept of, and working with, variables;\n",
    "* performing basic computations and conversions;\n",
    "* experimenting with Python code.\n",
    "\n",
    "### Scenario\n",
    "Miles and kilometers are units of length or distance.\n",
    "\n",
    "Bearing in mind that ```1``` mile is equal to approximately ```1.61``` kilometers, complete the program in the editor so that it converts:\n",
    "\n",
    "* miles to kilometers;\n",
    "* kilometers to miles.\n",
    "\n",
    "Do not change anything in the existing code. Write your code in the places indicated by ```###```. Test your program with the data we've provided in the source code.\n",
    "\n",
    "Pay particular attention to what is going on inside the ```print()``` function. Analyze how we provide multiple arguments to the function, and how we output the expected data.\n",
    "\n",
    "Note that some of the arguments inside the ```print()``` function are strings (e.g., \"```miles is```\", whereas some other are variables (e.g., ```miles```).\n",
    "\n",
    "**TIP**\n",
    "\n",
    "There's one more interesting thing happening there. Can you see another function inside the ```print()``` function? It's the ```round()``` function. Its job is to round the outputted result to the number of decimal places specified in the parentheses, and return a float (inside the ```round()``` function you can find the variable name, a comma, and the number of decimal places we're aiming for). We're going to talk about functions very soon, so don't worry that everything may not be fully clear yet. We just want to spark your curiosity.\n",
    "\n",
    "After completing the lab, open Sandbox, and experiment more. Try to write different converters, e.g., a USD to EUR converter, a temperature converter, etc. - let your imagination fly! Try to output the results by combining strings and variables. Try to use and experiment with the ```round()``` function to round your results to one, two, or three decimal places. Check out what happens if you don't provide any number of digits. Remember to test your programs.\n",
    "\n",
    "Experiment, draw conclusions, and learn. Be curious.\n",
    "\n",
    "\n",
    "Expected output\n",
    "```\n",
    "7.38 miles is 11.88 kilometers\n",
    "12.25 kilometers is 7.61 miles\n",
    "```"
   ]
  },
  {
   "cell_type": "code",
   "execution_count": null,
   "metadata": {},
   "outputs": [],
   "source": [
    "kilometers = 12.25\n",
    "miles = 7.38\n",
    "\n",
    "miles_to_kilometers = miles * 1.61\n",
    "kilometers_to_miles = kilometers / 1.61\n",
    "\n",
    "print(miles, \"miles is\", round(miles_to_kilometers, 2), \"kilometers\")\n",
    "print(kilometers, \"kilometers is\", round(kilometers_to_miles, 2), \"miles\")\n"
   ]
  },
  {
   "cell_type": "code",
   "execution_count": null,
   "metadata": {},
   "outputs": [],
   "source": [
    "euros = 5.69\n",
    "dollars = 7.89\n",
    "euro_dollar_rate = 1.22\n",
    "\n",
    "euros_to_dollars = euros * euro_dollar_rate\n",
    "dollars_to_euros = dollars / euro_dollar_rate\n",
    "\n",
    "print(euros, 'euros is', round(euros_to_dollars,2), 'dollars')\n",
    "print(dollars, 'dollars is', round(dollars_to_euros, 2), 'euros')"
   ]
  },
  {
   "cell_type": "markdown",
   "metadata": {},
   "source": [
    "# 2.4.1.10 LAB: Operators and expressions\n",
    "\n",
    "### Estimated time\n",
    "10-15 minutes\n",
    "\n",
    "### Level of difficulty\n",
    "Easy\n",
    "\n",
    "### Objectives\n",
    "* becoming familiar with the concept of numbers, operators, and arithmetic operations in Python;\n",
    "* performing basic calculations.\n",
    "\n",
    "### Scenario\n",
    "Take a look at the code in the editor: it reads a ```float``` value, puts it into a variable named ```x```, and prints the value of a variable named ```y```. Your task is to complete the code in order to evaluate the following expression:\n",
    "\n",
    "$3x^3 - 2x^2 + 3x - 1$\n",
    "\n",
    "The result should be assigned to ```y```.\n",
    "\n",
    "Remember that classical algebraic notation likes to omit the multiplication operator - you need to use it explicitly. Note how we change data type to make sure that ```x``` is of type ```float```.\n",
    "\n",
    "Keep your code clean and readable, and test it using the data we've provided, each time assigning it to the ```x``` variable (by hardcoding it). Don't be discouraged by any initial failures. Be persistent and inquisitive.\n",
    "\n",
    "### Test Data\n",
    "Sample input\n",
    "```\n",
    "x = 0\n",
    "x = 1\n",
    "x = -1\n",
    "```\n",
    "Expected Output\n",
    "```\n",
    "y = -1.0\n",
    "y = 3.0\n",
    "y = -9.0\n",
    "```"
   ]
  },
  {
   "cell_type": "code",
   "execution_count": null,
   "metadata": {},
   "outputs": [],
   "source": [
    "x =  0 # hardcode your test data here\n",
    "x = float(x)\n",
    "# write your code here\n",
    "y = 3 * x ** 3 - 2 * x ** 2 + 3 * x - 1\n",
    "print(\"y =\", y)"
   ]
  },
  {
   "cell_type": "code",
   "execution_count": null,
   "metadata": {},
   "outputs": [],
   "source": [
    "x =  1 # hardcode your test data here\n",
    "x = float(x)\n",
    "# write your code here\n",
    "y = 3 * x ** 3 - 2 * x ** 2 + 3 * x - 1\n",
    "print(\"y =\", y)"
   ]
  },
  {
   "cell_type": "code",
   "execution_count": null,
   "metadata": {},
   "outputs": [],
   "source": [
    "x =  -1 # hardcode your test data here\n",
    "x = float(x)\n",
    "# write your code here\n",
    "y = 3 * x ** 3 - 2 * x ** 2 + 3 * x - 1\n",
    "print(\"y =\", y)"
   ]
  },
  {
   "cell_type": "code",
   "execution_count": null,
   "metadata": {},
   "outputs": [],
   "source": [
    "# Voor de leesbaarheid zou het ook zo kunnen:\n",
    "x =  0 # hardcode your test data here\n",
    "x = float(x)\n",
    "# write your code here\n",
    "y = (3 * x ** 3) - (2 * x ** 2) + (3 * x) - 1\n",
    "print(\"y =\", y)"
   ]
  },
  {
   "cell_type": "markdown",
   "metadata": {},
   "source": [
    "# 2.5.1.2 LAB: Comments\n",
    "\n",
    "### Estimated time\n",
    "5 minutes\n",
    "\n",
    "### Level of difficulty\n",
    "Very Easy\n",
    "\n",
    "### Objectives\n",
    "* becoming familiar with the concept of comments in Python;\n",
    "* using and not using comments;\n",
    "* replacing comments with code;\n",
    "* experimenting with Python code.\n",
    "\n",
    "### Scenario\n",
    "The code in the editor contains comments. Try to improve it: add or remove comments where you find it appropriate (yes, sometimes removing a comment can make the code more readable), and change variable names where you think this will improve code comprehension.\n",
    "\n",
    "**NOTE**\n",
    "\n",
    "Comments are very important. They are used not only to make your programs **easier to understand**, but also to **disable those pieces of code that are currently not needed** (e.g., when you need to test some parts of your code only, and ignore other). Good programmers **describe** each important piece of code, and give **self-commenting** names to variables, as sometimes it is simply much better to leave information in the code.\n",
    "\n",
    "It's good to use **readable** variable names, and sometimes it's better to **divide your code** into named pieces (e.g., functions). In some situations, it's a good idea to write the steps of computations in a clearer way.\n",
    "\n",
    "One more thing: it may happen that a comment contains a wrong or incorrect piece of information - you should never do that on purpose!"
   ]
  },
  {
   "cell_type": "code",
   "execution_count": null,
   "metadata": {},
   "outputs": [],
   "source": [
    "#this program computes the number of seconds in a given number of hours --> een mooie omschrijving van de code\n",
    "# this program has been written two days ago --> overbodig\n",
    "\n",
    "a = 2 # number of hours --> een goede variabelenaam is beter dan slecht commentaar\n",
    "seconds = 3600 # number of seconds in 1 hour --> dit kan natuurlijk ook met de variabelenaam worden gedaan\n",
    "\n",
    "print(\"Hours: \", a) #printing the number of hours --> overbodig\n",
    "# print(\"Seconds in Hours: \", a * seconds) # printing the number of seconds in a given number of hours --> Vergeten het commentaar weg te halen?\n",
    "\n",
    "#here we should also print \"Goodbye\", but a programmer didn't have time to write any code --> De code maar even schrijven dan en het commentaar weghalen.\n",
    "#this is the end of the program that computes the number of seconds in 3 hour --> overbodig\n"
   ]
  },
  {
   "cell_type": "code",
   "execution_count": null,
   "metadata": {},
   "outputs": [],
   "source": [
    "# De nette code ziet er als volgt uit!\n",
    "#this program computes the number of seconds in a given number of hours \n",
    "\n",
    "hours = 2 \n",
    "seconds_in_hour = 3600 \n",
    "\n",
    "print(\"Hours: \", hours) \n",
    "print(\"Seconds in Hours: \", hours * seconds_in_hour)\n",
    "\n",
    "print(\"Goodbye\")"
   ]
  },
  {
   "cell_type": "markdown",
   "metadata": {},
   "source": [
    "# 2.6.1.9 LAB: Simple input and output\n",
    "\n",
    "### Estimated time\n",
    "5-10 minutes\n",
    "\n",
    "### Level of difficulty\n",
    "Easy\n",
    "\n",
    "### Objectives\n",
    "* becoming familiar with the inputting and outputting of data in Python;\n",
    "* evaluating simple expressions.\n",
    "\n",
    "### Scenario\n",
    "Your task is to complete the code in order to evaluate the results of four basic arithmetic operations.\n",
    "\n",
    "The results have to be printed to the console.\n",
    "\n",
    "You may not be able to protect the code from a user who wants to divide by zero. That's okay, don't worry about it for now.\n",
    "\n",
    "Test your code - does it produce the results you expect?\n",
    "\n",
    "We won't show you any test data - that would be too simple."
   ]
  },
  {
   "cell_type": "code",
   "execution_count": null,
   "metadata": {},
   "outputs": [],
   "source": [
    "# input a float value for variable a here\n",
    "a = float(input(\"Wat is de waarde van a:\"))\n",
    "# input a float value for variable b here\n",
    "b = float(input(\"Wat is de waarde van b:\"))\n",
    "\n",
    "# output the result of addition here\n",
    "print(\"a + b =\", a + b)\n",
    "# output the result of subtraction here\n",
    "print(\"a - b =\", a - b)\n",
    "# output the result of multiplication here\n",
    "print(\"a * b =\", a * b)\n",
    "# output the result of division here\n",
    "print(\"a / b =\", a / b)\n",
    "\n",
    "print(\"\\nThat's all, folks!\")"
   ]
  },
  {
   "cell_type": "markdown",
   "metadata": {},
   "source": [
    "# 2.6.1.10 LAB: Operators and expressions\n",
    "\n",
    "Estimated time\n",
    "20 minutes\n",
    "\n",
    "Level of difficulty\n",
    "Intermediate\n",
    "\n",
    "Objectives\n",
    "becoming familiar with the concept of numbers, operators and arithmetic operations in Python;\n",
    "understanding the precedence and associativity of Python operators, as well as the proper use of parentheses.\n",
    "Scenario\n",
    "Your task is to complete the code in order to evaluate the following expression:\n",
    "\n",
    "$ \\large \\frac{1} {x + \\frac{1}{x + \\frac{1}{x + \\frac{1}{x}}}}$\n",
    "\n",
    "The result should be assigned to ```y```. Be careful - watch the operators and keep their priorities in mind. Don't hesitate to use as many parentheses as you need.\n",
    "\n",
    "You can use additional variables to shorten the expression (but it's not necessary). Test your code carefully.\n",
    "\n",
    "### Test Data\n",
    "Sample input: ```1```\n",
    "\n",
    "Expected output:\n",
    "```\n",
    "y = 0.6000000000000001\n",
    "```\n",
    "Sample input: ```10```\n",
    "\n",
    "Expected output:\n",
    "```\n",
    "y = 0.09901951266867294\n",
    "```\n",
    "Sample input: ```100```\n",
    "\n",
    "Expected output:\n",
    "```\n",
    "y = 0.009999000199950014\n",
    "```\n",
    "Sample input: ```-5```\n",
    "\n",
    "Expected output:\n",
    "```\n",
    "y = -0.19258202567760344\n",
    "```"
   ]
  },
  {
   "cell_type": "code",
   "execution_count": null,
   "metadata": {},
   "outputs": [],
   "source": [
    "x = float(input(\"Enter value for x: \"))\n",
    "\n",
    "# Write your code here.\n",
    "y = 1 / (x + (1 / (x + 1 / (x + 1/x))))\n",
    "\n",
    "print(\"y =\", y)"
   ]
  },
  {
   "cell_type": "markdown",
   "metadata": {},
   "source": [
    "# 2.6.1.11 LAB: Operators and expressions\n",
    "\n",
    "### Estimated time\n",
    "15-20 minutes\n",
    "\n",
    "### Level of difficulty\n",
    "Easy\n",
    "\n",
    "### Objectives\n",
    "* improving the ability to use numbers, operators, and arithmetic operations in Python;\n",
    "* using the ```print()``` function's formatting capabilities;\n",
    "* learning to express everyday-life phenomena in terms of programming language.\n",
    "\n",
    "### Scenario\n",
    "Your task is to prepare a simple code able to evaluate the #end time# of a period of time, given as a number of minutes (it could be arbitrarily large). The start time is given as a pair of hours (0..23) and minutes (0..59). The result has to be printed to the console.\n",
    "\n",
    "For example, if an event starts at **12:17** and lasts **59 minutes**, it will end at **13:16**.\n",
    "\n",
    "Don't worry about any imperfections in your code - it's okay if it accepts an invalid time - the most important thing is that the code produce valid results for valid input data.\n",
    "\n",
    "Test your code carefully. Hint: using the ```%``` operator may be the key to success.\n",
    "\n",
    "### Test Data\n",
    "Sample input:\n",
    "```\n",
    "12\n",
    "17\n",
    "59\n",
    "```\n",
    "Expected output: ```13:16```\n",
    "\n",
    "Sample input:\n",
    "```\n",
    "23\n",
    "58\n",
    "642\n",
    "```\n",
    "Expected output: ```10:40```\n",
    "\n",
    "Sample input:\n",
    "```\n",
    "0\n",
    "1\n",
    "2939\n",
    "```\n",
    "Expected output: ```1:0```\n"
   ]
  },
  {
   "cell_type": "code",
   "execution_count": null,
   "metadata": {},
   "outputs": [],
   "source": [
    "hour = int(input(\"Starting time (hours): \"))\n",
    "mins = int(input(\"Starting time (minutes): \"))\n",
    "dura = int(input(\"Event duration (minutes): \"))\n",
    "\n",
    "# Voor de uren berekenen we eerst het totaal aantal minuten en doen dan een integer deling door 60, \n",
    "# dat is het aantal uren wat door de minuten wordt gevormd.\n",
    "# dat aantal uren tellen we bij de originele uren op. Om te voorkomen dat we boven de 24 uur uitkomen \n",
    "# doen we daarna nog een modulo van het nieuwe aantal uren (bijv. 26 % 24 = 2)\n",
    "hour = (hour + (dura+mins) // 60) % 24 \n",
    "\n",
    "mins = (mins + dura) % 60 # alleen de rest minuten moeten worden getoond, de overige minuten zijn al in de uren opgenomen\n",
    "\n",
    "# Write your code here.\n",
    "print(hour,\":\",mins, sep=\"\" )"
   ]
  },
  {
   "cell_type": "code",
   "execution_count": null,
   "metadata": {},
   "outputs": [],
   "source": []
  }
 ],
 "metadata": {
  "kernelspec": {
   "display_name": "Python 3",
   "language": "python",
   "name": "python3"
  },
  "language_info": {
   "codemirror_mode": {
    "name": "ipython",
    "version": 3
   },
   "file_extension": ".py",
   "mimetype": "text/x-python",
   "name": "python",
   "nbconvert_exporter": "python",
   "pygments_lexer": "ipython3",
   "version": "3.6.12"
  }
 },
 "nbformat": 4,
 "nbformat_minor": 4
}
