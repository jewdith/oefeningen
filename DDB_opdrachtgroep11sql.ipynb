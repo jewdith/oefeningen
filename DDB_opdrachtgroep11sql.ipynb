{
    "metadata": {
        "kernelspec": {
            "name": "SQL",
            "display_name": "SQL",
            "language": "sql"
        },
        "language_info": {
            "name": "sql",
            "version": ""
        }
    },
    "nbformat_minor": 2,
    "nbformat": 4,
    "cells": [
        {
            "cell_type": "markdown",
            "source": [
                "Voordat je dit notebook kunt gebruiken moet je eerst een connectie maken met een database. Dat kan door hierboven bij 'Attach to' te kiezen voor 'Change Connection' en daarna de volgende connectie informatie in te vullen: \n",
                "\n",
                "Connection Type: Microsoft SQL Server\n",
                "\n",
                "Server: ilxcursus.database.windows.net\n",
                "\n",
                "Authentication Type: SQL Login\n",
                "\n",
                "User Name: HUStudent\n",
                "\n",
                "Password: Pa55w.rd\n",
                "\n",
                "Remember password aangevinkt\n",
                "\n",
                "Database: hu-ddb\n",
                "\n",
                "Name (optional): hu-ddb (dan wordt de connectie info opgeslagen en hoef je het de volende keer niet opnieuw in te vullen...)"
            ],
            "metadata": {
                "azdata_cell_guid": "21b48242-1030-4c2f-89c7-4501c428a54d"
            }
        },
        {
            "cell_type": "markdown",
            "source": [
                "We werken nu op een SQL Database welke wordt gehost in de Microsoft Azure Cloud. Het Microsoft SQL-dialect heet Transact-SQL of kortweg TSQL. In TSQL zijn sommige statements net even iets anders dan in andere dialecten. Voor het beperken van het aantal rijen dat een query teruggeeft gebruiken in TSQL in plaats van het LIMIT statement het TOP _n_ statement. En om in een notebook een query uit te voeren drukken we op F5 wanneer we een query-cel hebben geselecteerd, óf we op de play knop aan de linkerkant van een cel klikken."
            ],
            "metadata": {
                "azdata_cell_guid": "d5f1e2aa-7e73-4ab1-8841-6ef40f9f2cc5"
            }
        },
        {
            "cell_type": "code",
            "source": [
                "--dbo geeft aan uit welke dataopslag de tabel wordt gehaald !\r\n",
                "select TOP 10 * from dbo.artist;\r\n",
                ""
            ],
            "metadata": {
                "azdata_cell_guid": "b58d1c8e-07b8-4ace-8489-ad341f458006"
            },
            "outputs": [
                {
                    "output_type": "display_data",
                    "data": {
                        "text/html": "(10 rows affected)"
                    },
                    "metadata": {}
                },
                {
                    "output_type": "display_data",
                    "data": {
                        "text/html": "Total execution time: 00:00:01.760"
                    },
                    "metadata": {}
                },
                {
                    "output_type": "execute_result",
                    "execution_count": 1,
                    "data": {
                        "application/vnd.dataresource+json": {
                            "schema": {
                                "fields": [
                                    {
                                        "name": "artistId"
                                    },
                                    {
                                        "name": "artist"
                                    }
                                ]
                            },
                            "data": [
                                {
                                    "0": "18848",
                                    "1": "The Who"
                                },
                                {
                                    "0": "18849",
                                    "1": "Yes"
                                },
                                {
                                    "0": "18850",
                                    "1": "M.A.S.H."
                                },
                                {
                                    "0": "18851",
                                    "1": "Lucille Starr"
                                },
                                {
                                    "0": "18852",
                                    "1": "Rick Astley"
                                },
                                {
                                    "0": "18853",
                                    "1": "Boney M"
                                },
                                {
                                    "0": "18854",
                                    "1": "Gerard Lenorman"
                                },
                                {
                                    "0": "18855",
                                    "1": "Sonny & Cher"
                                },
                                {
                                    "0": "18856",
                                    "1": "Miami Sound Machine"
                                },
                                {
                                    "0": "18857",
                                    "1": "Fleetwood Mac"
                                }
                            ]
                        },
                        "text/html": "<table><tr><th>artistId</th><th>artist</th></tr><tr><td>18848</td><td>The Who</td></tr><tr><td>18849</td><td>Yes</td></tr><tr><td>18850</td><td>M.A.S.H.</td></tr><tr><td>18851</td><td>Lucille Starr</td></tr><tr><td>18852</td><td>Rick Astley</td></tr><tr><td>18853</td><td>Boney M</td></tr><tr><td>18854</td><td>Gerard Lenorman</td></tr><tr><td>18855</td><td>Sonny &amp; Cher</td></tr><tr><td>18856</td><td>Miami Sound Machine</td></tr><tr><td>18857</td><td>Fleetwood Mac</td></tr></table>"
                    },
                    "metadata": {
                        "resultSet": {
                            "id": 0,
                            "batchId": 0,
                            "rowCount": 10,
                            "complete": true,
                            "columnInfo": [
                                {
                                    "isBytes": false,
                                    "isChars": false,
                                    "isSqlVariant": false,
                                    "isUdt": false,
                                    "isXml": false,
                                    "isJson": false,
                                    "sqlDbType": 8,
                                    "isHierarchyId": false,
                                    "isSqlXmlType": false,
                                    "isUnknownType": false,
                                    "isUpdatable": false,
                                    "allowDBNull": false,
                                    "baseCatalogName": null,
                                    "baseColumnName": null,
                                    "baseSchemaName": null,
                                    "baseServerName": null,
                                    "baseTableName": null,
                                    "columnName": "artistId",
                                    "columnOrdinal": 0,
                                    "columnSize": 4,
                                    "isAliased": null,
                                    "isAutoIncrement": true,
                                    "isExpression": null,
                                    "isHidden": null,
                                    "isIdentity": true,
                                    "isKey": null,
                                    "isLong": false,
                                    "isReadOnly": true,
                                    "isUnique": false,
                                    "numericPrecision": 10,
                                    "numericScale": 255,
                                    "udtAssemblyQualifiedName": null,
                                    "dataType": "System.Int32, System.Private.CoreLib, Version=4.0.0.0, Culture=neutral, PublicKeyToken=7cec85d7bea7798e",
                                    "dataTypeName": "int"
                                },
                                {
                                    "isBytes": false,
                                    "isChars": true,
                                    "isSqlVariant": false,
                                    "isUdt": false,
                                    "isXml": false,
                                    "isJson": false,
                                    "sqlDbType": 22,
                                    "isHierarchyId": false,
                                    "isSqlXmlType": false,
                                    "isUnknownType": false,
                                    "isUpdatable": true,
                                    "allowDBNull": false,
                                    "baseCatalogName": null,
                                    "baseColumnName": null,
                                    "baseSchemaName": null,
                                    "baseServerName": null,
                                    "baseTableName": null,
                                    "columnName": "artist",
                                    "columnOrdinal": 1,
                                    "columnSize": 255,
                                    "isAliased": null,
                                    "isAutoIncrement": false,
                                    "isExpression": null,
                                    "isHidden": null,
                                    "isIdentity": false,
                                    "isKey": null,
                                    "isLong": false,
                                    "isReadOnly": false,
                                    "isUnique": false,
                                    "numericPrecision": 255,
                                    "numericScale": 255,
                                    "udtAssemblyQualifiedName": null,
                                    "dataType": "System.String, System.Private.CoreLib, Version=4.0.0.0, Culture=neutral, PublicKeyToken=7cec85d7bea7798e",
                                    "dataTypeName": "varchar"
                                }
                            ],
                            "specialAction": {
                                "none": true,
                                "expectYukonXMLShowPlan": false
                            }
                        }
                    }
                }
            ],
            "execution_count": 1
        },
        {
            "cell_type": "markdown",
            "source": [
                "Bekijk op deze wijze de andere twee tabellen ook maar even, dbo.song en dbo.listing"
            ],
            "metadata": {
                "azdata_cell_guid": "b0db2501-820a-4405-a7e2-98c1e3cb5c8f"
            }
        },
        {
            "cell_type": "code",
            "source": [
                "-- dbo.song eerste 10 rijen\r\n",
                "SELECT TOP 10 *\r\n",
                "FROM dbo.song "
            ],
            "metadata": {
                "azdata_cell_guid": "35816e73-ead9-49c5-92f3-8956f73690cf"
            },
            "outputs": [
                {
                    "output_type": "display_data",
                    "data": {
                        "text/html": "(10 rows affected)"
                    },
                    "metadata": {}
                },
                {
                    "output_type": "display_data",
                    "data": {
                        "text/html": "Total execution time: 00:00:00.107"
                    },
                    "metadata": {}
                },
                {
                    "output_type": "execute_result",
                    "execution_count": 5,
                    "data": {
                        "application/vnd.dataresource+json": {
                            "schema": {
                                "fields": [
                                    {
                                        "name": "songId"
                                    },
                                    {
                                        "name": "title"
                                    },
                                    {
                                        "name": "year_released"
                                    },
                                    {
                                        "name": "artistId"
                                    }
                                ]
                            },
                            "data": [
                                {
                                    "0": "1",
                                    "1": "A Legal Matter",
                                    "2": "1966",
                                    "3": "18848"
                                },
                                {
                                    "0": "2",
                                    "1": "Baba O'Riley",
                                    "2": "1971",
                                    "3": "18848"
                                },
                                {
                                    "0": "3",
                                    "1": "Behind Blue Eyes",
                                    "2": "1971",
                                    "3": "18848"
                                },
                                {
                                    "0": "4",
                                    "1": "Happy Jack",
                                    "2": "1966",
                                    "3": "18848"
                                },
                                {
                                    "0": "5",
                                    "1": "I'm A Boy",
                                    "2": "1966",
                                    "3": "18848"
                                },
                                {
                                    "0": "6",
                                    "1": "My Generation",
                                    "2": "1965",
                                    "3": "18848"
                                },
                                {
                                    "0": "7",
                                    "1": "Overture (Tommy)",
                                    "2": "1969",
                                    "3": "18848"
                                },
                                {
                                    "0": "8",
                                    "1": "Pictures Of Lily",
                                    "2": "1967",
                                    "3": "18848"
                                },
                                {
                                    "0": "9",
                                    "1": "Pinball Wizard",
                                    "2": "1969",
                                    "3": "18848"
                                },
                                {
                                    "0": "10",
                                    "1": "See Me, Feel Me",
                                    "2": "1970",
                                    "3": "18848"
                                }
                            ]
                        },
                        "text/html": "<table><tr><th>songId</th><th>title</th><th>year_released</th><th>artistId</th></tr><tr><td>1</td><td>A Legal Matter</td><td>1966</td><td>18848</td></tr><tr><td>2</td><td>Baba O'Riley</td><td>1971</td><td>18848</td></tr><tr><td>3</td><td>Behind Blue Eyes</td><td>1971</td><td>18848</td></tr><tr><td>4</td><td>Happy Jack</td><td>1966</td><td>18848</td></tr><tr><td>5</td><td>I'm A Boy</td><td>1966</td><td>18848</td></tr><tr><td>6</td><td>My Generation</td><td>1965</td><td>18848</td></tr><tr><td>7</td><td>Overture (Tommy)</td><td>1969</td><td>18848</td></tr><tr><td>8</td><td>Pictures Of Lily</td><td>1967</td><td>18848</td></tr><tr><td>9</td><td>Pinball Wizard</td><td>1969</td><td>18848</td></tr><tr><td>10</td><td>See Me, Feel Me</td><td>1970</td><td>18848</td></tr></table>"
                    },
                    "metadata": {
                        "resultSet": {
                            "id": 0,
                            "batchId": 0,
                            "rowCount": 10,
                            "complete": false,
                            "columnInfo": [
                                {
                                    "isBytes": false,
                                    "isChars": false,
                                    "isSqlVariant": false,
                                    "isUdt": false,
                                    "isXml": false,
                                    "isJson": false,
                                    "sqlDbType": 8,
                                    "isHierarchyId": false,
                                    "isSqlXmlType": false,
                                    "isUnknownType": false,
                                    "isUpdatable": false,
                                    "allowDBNull": false,
                                    "baseCatalogName": null,
                                    "baseColumnName": null,
                                    "baseSchemaName": null,
                                    "baseServerName": null,
                                    "baseTableName": null,
                                    "columnName": "songId",
                                    "columnOrdinal": 0,
                                    "columnSize": 4,
                                    "isAliased": null,
                                    "isAutoIncrement": true,
                                    "isExpression": null,
                                    "isHidden": null,
                                    "isIdentity": true,
                                    "isKey": null,
                                    "isLong": false,
                                    "isReadOnly": true,
                                    "isUnique": false,
                                    "numericPrecision": 10,
                                    "numericScale": 255,
                                    "udtAssemblyQualifiedName": null,
                                    "dataType": "System.Int32, System.Private.CoreLib, Version=4.0.0.0, Culture=neutral, PublicKeyToken=7cec85d7bea7798e",
                                    "dataTypeName": "int"
                                },
                                {
                                    "isBytes": false,
                                    "isChars": true,
                                    "isSqlVariant": false,
                                    "isUdt": false,
                                    "isXml": false,
                                    "isJson": false,
                                    "sqlDbType": 22,
                                    "isHierarchyId": false,
                                    "isSqlXmlType": false,
                                    "isUnknownType": false,
                                    "isUpdatable": true,
                                    "allowDBNull": false,
                                    "baseCatalogName": null,
                                    "baseColumnName": null,
                                    "baseSchemaName": null,
                                    "baseServerName": null,
                                    "baseTableName": null,
                                    "columnName": "title",
                                    "columnOrdinal": 1,
                                    "columnSize": 255,
                                    "isAliased": null,
                                    "isAutoIncrement": false,
                                    "isExpression": null,
                                    "isHidden": null,
                                    "isIdentity": false,
                                    "isKey": null,
                                    "isLong": false,
                                    "isReadOnly": false,
                                    "isUnique": false,
                                    "numericPrecision": 255,
                                    "numericScale": 255,
                                    "udtAssemblyQualifiedName": null,
                                    "dataType": "System.String, System.Private.CoreLib, Version=4.0.0.0, Culture=neutral, PublicKeyToken=7cec85d7bea7798e",
                                    "dataTypeName": "varchar"
                                },
                                {
                                    "isBytes": false,
                                    "isChars": false,
                                    "isSqlVariant": false,
                                    "isUdt": false,
                                    "isXml": false,
                                    "isJson": false,
                                    "sqlDbType": 8,
                                    "isHierarchyId": false,
                                    "isSqlXmlType": false,
                                    "isUnknownType": false,
                                    "isUpdatable": true,
                                    "allowDBNull": false,
                                    "baseCatalogName": null,
                                    "baseColumnName": null,
                                    "baseSchemaName": null,
                                    "baseServerName": null,
                                    "baseTableName": null,
                                    "columnName": "year_released",
                                    "columnOrdinal": 2,
                                    "columnSize": 4,
                                    "isAliased": null,
                                    "isAutoIncrement": false,
                                    "isExpression": null,
                                    "isHidden": null,
                                    "isIdentity": false,
                                    "isKey": null,
                                    "isLong": false,
                                    "isReadOnly": false,
                                    "isUnique": false,
                                    "numericPrecision": 10,
                                    "numericScale": 255,
                                    "udtAssemblyQualifiedName": null,
                                    "dataType": "System.Int32, System.Private.CoreLib, Version=4.0.0.0, Culture=neutral, PublicKeyToken=7cec85d7bea7798e",
                                    "dataTypeName": "int"
                                },
                                {
                                    "isBytes": false,
                                    "isChars": false,
                                    "isSqlVariant": false,
                                    "isUdt": false,
                                    "isXml": false,
                                    "isJson": false,
                                    "sqlDbType": 8,
                                    "isHierarchyId": false,
                                    "isSqlXmlType": false,
                                    "isUnknownType": false,
                                    "isUpdatable": true,
                                    "allowDBNull": false,
                                    "baseCatalogName": null,
                                    "baseColumnName": null,
                                    "baseSchemaName": null,
                                    "baseServerName": null,
                                    "baseTableName": null,
                                    "columnName": "artistId",
                                    "columnOrdinal": 3,
                                    "columnSize": 4,
                                    "isAliased": null,
                                    "isAutoIncrement": false,
                                    "isExpression": null,
                                    "isHidden": null,
                                    "isIdentity": false,
                                    "isKey": null,
                                    "isLong": false,
                                    "isReadOnly": false,
                                    "isUnique": false,
                                    "numericPrecision": 10,
                                    "numericScale": 255,
                                    "udtAssemblyQualifiedName": null,
                                    "dataType": "System.Int32, System.Private.CoreLib, Version=4.0.0.0, Culture=neutral, PublicKeyToken=7cec85d7bea7798e",
                                    "dataTypeName": "int"
                                }
                            ],
                            "specialAction": null
                        }
                    }
                }
            ],
            "execution_count": 5
        },
        {
            "cell_type": "code",
            "source": [
                "-- dbo.listing eerste 10 rijen\r\n",
                "SELECT TOP 10 *\r\n",
                "FROM dbo.listing "
            ],
            "metadata": {
                "azdata_cell_guid": "d4107d9e-16bc-4fe2-96d2-e0667380c13c"
            },
            "outputs": [
                {
                    "output_type": "display_data",
                    "data": {
                        "text/html": "(10 rows affected)"
                    },
                    "metadata": {}
                },
                {
                    "output_type": "display_data",
                    "data": {
                        "text/html": "Total execution time: 00:00:00.072"
                    },
                    "metadata": {}
                },
                {
                    "output_type": "execute_result",
                    "execution_count": 6,
                    "data": {
                        "application/vnd.dataresource+json": {
                            "schema": {
                                "fields": [
                                    {
                                        "name": "year"
                                    },
                                    {
                                        "name": "rank"
                                    },
                                    {
                                        "name": "songId"
                                    }
                                ]
                            },
                            "data": [
                                {
                                    "0": "2020",
                                    "1": "1",
                                    "2": "1938"
                                },
                                {
                                    "0": "2020",
                                    "1": "2",
                                    "2": "327"
                                },
                                {
                                    "0": "2020",
                                    "1": "3",
                                    "2": "4552"
                                },
                                {
                                    "0": "2020",
                                    "1": "4",
                                    "2": "515"
                                },
                                {
                                    "0": "2020",
                                    "1": "5",
                                    "2": "642"
                                },
                                {
                                    "0": "2020",
                                    "1": "6",
                                    "2": "2621"
                                },
                                {
                                    "0": "2020",
                                    "1": "7",
                                    "2": "1104"
                                },
                                {
                                    "0": "2020",
                                    "1": "8",
                                    "2": "3466"
                                },
                                {
                                    "0": "2020",
                                    "1": "9",
                                    "2": "2531"
                                },
                                {
                                    "0": "2020",
                                    "1": "10",
                                    "2": "2688"
                                }
                            ]
                        },
                        "text/html": "<table><tr><th>year</th><th>rank</th><th>songId</th></tr><tr><td>2020</td><td>1</td><td>1938</td></tr><tr><td>2020</td><td>2</td><td>327</td></tr><tr><td>2020</td><td>3</td><td>4552</td></tr><tr><td>2020</td><td>4</td><td>515</td></tr><tr><td>2020</td><td>5</td><td>642</td></tr><tr><td>2020</td><td>6</td><td>2621</td></tr><tr><td>2020</td><td>7</td><td>1104</td></tr><tr><td>2020</td><td>8</td><td>3466</td></tr><tr><td>2020</td><td>9</td><td>2531</td></tr><tr><td>2020</td><td>10</td><td>2688</td></tr></table>"
                    },
                    "metadata": {
                        "resultSet": {
                            "id": 0,
                            "batchId": 0,
                            "rowCount": 10,
                            "complete": true,
                            "columnInfo": [
                                {
                                    "isBytes": false,
                                    "isChars": false,
                                    "isSqlVariant": false,
                                    "isUdt": false,
                                    "isXml": false,
                                    "isJson": false,
                                    "sqlDbType": 8,
                                    "isHierarchyId": false,
                                    "isSqlXmlType": false,
                                    "isUnknownType": false,
                                    "isUpdatable": true,
                                    "allowDBNull": false,
                                    "baseCatalogName": null,
                                    "baseColumnName": null,
                                    "baseSchemaName": null,
                                    "baseServerName": null,
                                    "baseTableName": null,
                                    "columnName": "year",
                                    "columnOrdinal": 0,
                                    "columnSize": 4,
                                    "isAliased": null,
                                    "isAutoIncrement": false,
                                    "isExpression": null,
                                    "isHidden": null,
                                    "isIdentity": false,
                                    "isKey": null,
                                    "isLong": false,
                                    "isReadOnly": false,
                                    "isUnique": false,
                                    "numericPrecision": 10,
                                    "numericScale": 255,
                                    "udtAssemblyQualifiedName": null,
                                    "dataType": "System.Int32, System.Private.CoreLib, Version=4.0.0.0, Culture=neutral, PublicKeyToken=7cec85d7bea7798e",
                                    "dataTypeName": "int"
                                },
                                {
                                    "isBytes": false,
                                    "isChars": false,
                                    "isSqlVariant": false,
                                    "isUdt": false,
                                    "isXml": false,
                                    "isJson": false,
                                    "sqlDbType": 8,
                                    "isHierarchyId": false,
                                    "isSqlXmlType": false,
                                    "isUnknownType": false,
                                    "isUpdatable": true,
                                    "allowDBNull": false,
                                    "baseCatalogName": null,
                                    "baseColumnName": null,
                                    "baseSchemaName": null,
                                    "baseServerName": null,
                                    "baseTableName": null,
                                    "columnName": "rank",
                                    "columnOrdinal": 1,
                                    "columnSize": 4,
                                    "isAliased": null,
                                    "isAutoIncrement": false,
                                    "isExpression": null,
                                    "isHidden": null,
                                    "isIdentity": false,
                                    "isKey": null,
                                    "isLong": false,
                                    "isReadOnly": false,
                                    "isUnique": false,
                                    "numericPrecision": 10,
                                    "numericScale": 255,
                                    "udtAssemblyQualifiedName": null,
                                    "dataType": "System.Int32, System.Private.CoreLib, Version=4.0.0.0, Culture=neutral, PublicKeyToken=7cec85d7bea7798e",
                                    "dataTypeName": "int"
                                },
                                {
                                    "isBytes": false,
                                    "isChars": false,
                                    "isSqlVariant": false,
                                    "isUdt": false,
                                    "isXml": false,
                                    "isJson": false,
                                    "sqlDbType": 8,
                                    "isHierarchyId": false,
                                    "isSqlXmlType": false,
                                    "isUnknownType": false,
                                    "isUpdatable": true,
                                    "allowDBNull": false,
                                    "baseCatalogName": null,
                                    "baseColumnName": null,
                                    "baseSchemaName": null,
                                    "baseServerName": null,
                                    "baseTableName": null,
                                    "columnName": "songId",
                                    "columnOrdinal": 2,
                                    "columnSize": 4,
                                    "isAliased": null,
                                    "isAutoIncrement": false,
                                    "isExpression": null,
                                    "isHidden": null,
                                    "isIdentity": false,
                                    "isKey": null,
                                    "isLong": false,
                                    "isReadOnly": false,
                                    "isUnique": false,
                                    "numericPrecision": 10,
                                    "numericScale": 255,
                                    "udtAssemblyQualifiedName": null,
                                    "dataType": "System.Int32, System.Private.CoreLib, Version=4.0.0.0, Culture=neutral, PublicKeyToken=7cec85d7bea7798e",
                                    "dataTypeName": "int"
                                }
                            ],
                            "specialAction": {
                                "none": true,
                                "expectYukonXMLShowPlan": false
                            }
                        }
                    }
                }
            ],
            "execution_count": 6
        },
        {
            "cell_type": "markdown",
            "source": [
                "Knoop nu de 3 tabellen aan elkaar en geef een volledig overzicht van de top 50 in het jaar 2020, uiteraard gesorteerd op posities in de lijst van 1 tot 50."
            ],
            "metadata": {
                "azdata_cell_guid": "c42319b3-1eef-4f2f-8422-734020d74735"
            }
        },
        {
            "cell_type": "code",
            "source": [
                "-- je kan ook *, omdat er niet specfiek aangegeven staat welke kolommen nodig zijn. de * is wel bad practice\r\n",
                "SELECT TOP 50 l.year, l.rank, s.title, s.year_released, a.artistId\r\n",
                "FROM dbo.artist AS a\r\n",
                "JOIN dbo.song AS s ON s.artistId = a.artistId \r\n",
                "JOIN dbo.listing AS l ON l.songId = s.songId\r\n",
                "WHERE l.year= 2020\r\n",
                "ORDER BY l.rank ASC\r\n",
                "-- je wilt inner join gebruiken bij koppelen tabellen, want INNER retourneert alleen waarden die voorkomen in tabellen artist, song EN listing. Het voorkomt retourneren van lege waarden. \r\n",
                "-- nadeel is dat het mogelijk rijen weglaat die lege waarden bevat in de 3 tabellen"
            ],
            "metadata": {
                "azdata_cell_guid": "371c7480-b2ba-4f88-aebc-298a32f54038",
                "tags": []
            },
            "outputs": [
                {
                    "output_type": "display_data",
                    "data": {
                        "text/html": "(50 rows affected)"
                    },
                    "metadata": {}
                },
                {
                    "output_type": "display_data",
                    "data": {
                        "text/html": "Total execution time: 00:00:00.180"
                    },
                    "metadata": {}
                },
                {
                    "output_type": "execute_result",
                    "metadata": {
                        "resultSet": {
                            "id": 0,
                            "batchId": 0,
                            "rowCount": 50,
                            "complete": true,
                            "columnInfo": [
                                {
                                    "isBytes": false,
                                    "isChars": false,
                                    "isSqlVariant": false,
                                    "isUdt": false,
                                    "isXml": false,
                                    "isJson": false,
                                    "sqlDbType": 8,
                                    "isHierarchyId": false,
                                    "isSqlXmlType": false,
                                    "isUnknownType": false,
                                    "isUpdatable": true,
                                    "allowDBNull": false,
                                    "baseCatalogName": null,
                                    "baseColumnName": null,
                                    "baseSchemaName": null,
                                    "baseServerName": null,
                                    "baseTableName": null,
                                    "columnName": "year",
                                    "columnOrdinal": 0,
                                    "columnSize": 4,
                                    "isAliased": null,
                                    "isAutoIncrement": false,
                                    "isExpression": null,
                                    "isHidden": null,
                                    "isIdentity": false,
                                    "isKey": null,
                                    "isLong": false,
                                    "isReadOnly": false,
                                    "isUnique": false,
                                    "numericPrecision": 10,
                                    "numericScale": 255,
                                    "udtAssemblyQualifiedName": null,
                                    "dataType": "System.Int32, System.Private.CoreLib, Version=4.0.0.0, Culture=neutral, PublicKeyToken=7cec85d7bea7798e",
                                    "dataTypeName": "int"
                                },
                                {
                                    "isBytes": false,
                                    "isChars": false,
                                    "isSqlVariant": false,
                                    "isUdt": false,
                                    "isXml": false,
                                    "isJson": false,
                                    "sqlDbType": 8,
                                    "isHierarchyId": false,
                                    "isSqlXmlType": false,
                                    "isUnknownType": false,
                                    "isUpdatable": true,
                                    "allowDBNull": false,
                                    "baseCatalogName": null,
                                    "baseColumnName": null,
                                    "baseSchemaName": null,
                                    "baseServerName": null,
                                    "baseTableName": null,
                                    "columnName": "rank",
                                    "columnOrdinal": 1,
                                    "columnSize": 4,
                                    "isAliased": null,
                                    "isAutoIncrement": false,
                                    "isExpression": null,
                                    "isHidden": null,
                                    "isIdentity": false,
                                    "isKey": null,
                                    "isLong": false,
                                    "isReadOnly": false,
                                    "isUnique": false,
                                    "numericPrecision": 10,
                                    "numericScale": 255,
                                    "udtAssemblyQualifiedName": null,
                                    "dataType": "System.Int32, System.Private.CoreLib, Version=4.0.0.0, Culture=neutral, PublicKeyToken=7cec85d7bea7798e",
                                    "dataTypeName": "int"
                                },
                                {
                                    "isBytes": false,
                                    "isChars": true,
                                    "isSqlVariant": false,
                                    "isUdt": false,
                                    "isXml": false,
                                    "isJson": false,
                                    "sqlDbType": 22,
                                    "isHierarchyId": false,
                                    "isSqlXmlType": false,
                                    "isUnknownType": false,
                                    "isUpdatable": true,
                                    "allowDBNull": false,
                                    "baseCatalogName": null,
                                    "baseColumnName": null,
                                    "baseSchemaName": null,
                                    "baseServerName": null,
                                    "baseTableName": null,
                                    "columnName": "title",
                                    "columnOrdinal": 2,
                                    "columnSize": 255,
                                    "isAliased": null,
                                    "isAutoIncrement": false,
                                    "isExpression": null,
                                    "isHidden": null,
                                    "isIdentity": false,
                                    "isKey": null,
                                    "isLong": false,
                                    "isReadOnly": false,
                                    "isUnique": false,
                                    "numericPrecision": 255,
                                    "numericScale": 255,
                                    "udtAssemblyQualifiedName": null,
                                    "dataType": "System.String, System.Private.CoreLib, Version=4.0.0.0, Culture=neutral, PublicKeyToken=7cec85d7bea7798e",
                                    "dataTypeName": "varchar"
                                },
                                {
                                    "isBytes": false,
                                    "isChars": false,
                                    "isSqlVariant": false,
                                    "isUdt": false,
                                    "isXml": false,
                                    "isJson": false,
                                    "sqlDbType": 8,
                                    "isHierarchyId": false,
                                    "isSqlXmlType": false,
                                    "isUnknownType": false,
                                    "isUpdatable": true,
                                    "allowDBNull": false,
                                    "baseCatalogName": null,
                                    "baseColumnName": null,
                                    "baseSchemaName": null,
                                    "baseServerName": null,
                                    "baseTableName": null,
                                    "columnName": "year_released",
                                    "columnOrdinal": 3,
                                    "columnSize": 4,
                                    "isAliased": null,
                                    "isAutoIncrement": false,
                                    "isExpression": null,
                                    "isHidden": null,
                                    "isIdentity": false,
                                    "isKey": null,
                                    "isLong": false,
                                    "isReadOnly": false,
                                    "isUnique": false,
                                    "numericPrecision": 10,
                                    "numericScale": 255,
                                    "udtAssemblyQualifiedName": null,
                                    "dataType": "System.Int32, System.Private.CoreLib, Version=4.0.0.0, Culture=neutral, PublicKeyToken=7cec85d7bea7798e",
                                    "dataTypeName": "int"
                                },
                                {
                                    "isBytes": false,
                                    "isChars": false,
                                    "isSqlVariant": false,
                                    "isUdt": false,
                                    "isXml": false,
                                    "isJson": false,
                                    "sqlDbType": 8,
                                    "isHierarchyId": false,
                                    "isSqlXmlType": false,
                                    "isUnknownType": false,
                                    "isUpdatable": false,
                                    "allowDBNull": false,
                                    "baseCatalogName": null,
                                    "baseColumnName": null,
                                    "baseSchemaName": null,
                                    "baseServerName": null,
                                    "baseTableName": null,
                                    "columnName": "artistId",
                                    "columnOrdinal": 4,
                                    "columnSize": 4,
                                    "isAliased": null,
                                    "isAutoIncrement": true,
                                    "isExpression": null,
                                    "isHidden": null,
                                    "isIdentity": true,
                                    "isKey": null,
                                    "isLong": false,
                                    "isReadOnly": true,
                                    "isUnique": false,
                                    "numericPrecision": 10,
                                    "numericScale": 255,
                                    "udtAssemblyQualifiedName": null,
                                    "dataType": "System.Int32, System.Private.CoreLib, Version=4.0.0.0, Culture=neutral, PublicKeyToken=7cec85d7bea7798e",
                                    "dataTypeName": "int"
                                }
                            ],
                            "specialAction": {
                                "none": true,
                                "expectYukonXMLShowPlan": false
                            }
                        }
                    },
                    "execution_count": 3,
                    "data": {
                        "application/vnd.dataresource+json": {
                            "schema": {
                                "fields": [
                                    {
                                        "name": "year"
                                    },
                                    {
                                        "name": "rank"
                                    },
                                    {
                                        "name": "title"
                                    },
                                    {
                                        "name": "year_released"
                                    },
                                    {
                                        "name": "artistId"
                                    }
                                ]
                            },
                            "data": [
                                {
                                    "0": "2020",
                                    "1": "1",
                                    "2": "Roller Coaster",
                                    "3": "2019",
                                    "4": "19733"
                                },
                                {
                                    "0": "2020",
                                    "1": "2",
                                    "2": "Bohemian Rhapsody",
                                    "3": "1975",
                                    "4": "18992"
                                },
                                {
                                    "0": "2020",
                                    "1": "3",
                                    "2": "Hotel California",
                                    "3": "1977",
                                    "4": "20830"
                                },
                                {
                                    "0": "2020",
                                    "1": "4",
                                    "2": "Piano Man",
                                    "3": "1974",
                                    "4": "19045"
                                },
                                {
                                    "0": "2020",
                                    "1": "5",
                                    "2": "Stairway To Heaven",
                                    "3": "1971",
                                    "4": "19103"
                                },
                                {
                                    "0": "2020",
                                    "1": "6",
                                    "2": "Black",
                                    "3": "1991",
                                    "4": "20014"
                                },
                                {
                                    "0": "2020",
                                    "1": "7",
                                    "2": "Avond",
                                    "3": "1997",
                                    "4": "19342"
                                },
                                {
                                    "0": "2020",
                                    "1": "8",
                                    "2": "Fix You",
                                    "3": "2005",
                                    "4": "20361"
                                },
                                {
                                    "0": "2020",
                                    "1": "9",
                                    "2": "Wish You Were Here",
                                    "3": "1975",
                                    "4": "19972"
                                },
                                {
                                    "0": "2020",
                                    "1": "10",
                                    "2": "Heroes",
                                    "3": "1976",
                                    "4": "20046"
                                },
                                {
                                    "0": "2020",
                                    "1": "11",
                                    "2": "Love Of My Life",
                                    "3": "1975",
                                    "4": "18992"
                                },
                                {
                                    "0": "2020",
                                    "1": "12",
                                    "2": "Soldier On",
                                    "3": "2020",
                                    "4": "19159"
                                },
                                {
                                    "0": "2020",
                                    "1": "13",
                                    "2": "Purple Rain",
                                    "3": "1984",
                                    "4": "19913"
                                },
                                {
                                    "0": "2020",
                                    "1": "14",
                                    "2": "Africa",
                                    "3": "1982",
                                    "4": "20325"
                                },
                                {
                                    "0": "2020",
                                    "1": "15",
                                    "2": "Child In Time",
                                    "3": "1970",
                                    "4": "19875"
                                },
                                {
                                    "0": "2020",
                                    "1": "16",
                                    "2": "November Rain",
                                    "3": "1992",
                                    "4": "20362"
                                },
                                {
                                    "0": "2020",
                                    "1": "17",
                                    "2": "Nothing Else Matters",
                                    "3": "1992",
                                    "4": "19100"
                                },
                                {
                                    "0": "2020",
                                    "1": "18",
                                    "2": "Brothers In Arms",
                                    "3": "1985",
                                    "4": "19869"
                                },
                                {
                                    "0": "2020",
                                    "1": "19",
                                    "2": "Comfortably Numb",
                                    "3": "1979",
                                    "4": "19972"
                                },
                                {
                                    "0": "2020",
                                    "1": "20",
                                    "2": "The Sound Of Silence",
                                    "3": "2016",
                                    "4": "20503"
                                },
                                {
                                    "0": "2020",
                                    "1": "21",
                                    "2": "The River",
                                    "3": "1981",
                                    "4": "20594"
                                },
                                {
                                    "0": "2020",
                                    "1": "22",
                                    "2": "Oceaan",
                                    "3": "2012",
                                    "4": "19713"
                                },
                                {
                                    "0": "2020",
                                    "1": "23",
                                    "2": "The Sound Of Silence",
                                    "3": "1966",
                                    "4": "20758"
                                },
                                {
                                    "0": "2020",
                                    "1": "24",
                                    "2": "Thunderstruck",
                                    "3": "1990",
                                    "4": "19968"
                                },
                                {
                                    "0": "2020",
                                    "1": "25",
                                    "2": "Smells Like Teen Spirit",
                                    "3": "1991",
                                    "4": "20583"
                                },
                                {
                                    "0": "2020",
                                    "1": "26",
                                    "2": "Imagine",
                                    "3": "1971",
                                    "4": "20848"
                                },
                                {
                                    "0": "2020",
                                    "1": "27",
                                    "2": "Sultans Of Swing",
                                    "3": "1978",
                                    "4": "19869"
                                },
                                {
                                    "0": "2020",
                                    "1": "28",
                                    "2": "Shine On You Crazy Diamond (Pts. 1-5)",
                                    "3": "1975",
                                    "4": "19972"
                                },
                                {
                                    "0": "2020",
                                    "1": "29",
                                    "2": "Door de wind",
                                    "3": "2020",
                                    "4": "19498"
                                },
                                {
                                    "0": "2020",
                                    "1": "30",
                                    "2": "One",
                                    "3": "1994",
                                    "4": "19100"
                                },
                                {
                                    "0": "2020",
                                    "1": "31",
                                    "2": "Papa",
                                    "3": "1991",
                                    "4": "20591"
                                },
                                {
                                    "0": "2020",
                                    "1": "32",
                                    "2": "Just Breathe",
                                    "3": "2009",
                                    "4": "20014"
                                },
                                {
                                    "0": "2020",
                                    "1": "33",
                                    "2": "Radar Love",
                                    "3": "1973",
                                    "4": "19739"
                                },
                                {
                                    "0": "2020",
                                    "1": "34",
                                    "2": "Paradise By The Dashboard Light",
                                    "3": "1978",
                                    "4": "20720"
                                },
                                {
                                    "0": "2020",
                                    "1": "35",
                                    "2": "Sweet Child O' Mine",
                                    "3": "1987",
                                    "4": "20362"
                                },
                                {
                                    "0": "2020",
                                    "1": "36",
                                    "2": "In The Air Tonight",
                                    "3": "1981",
                                    "4": "19218"
                                },
                                {
                                    "0": "2020",
                                    "1": "37",
                                    "2": "Shallow",
                                    "3": "2018",
                                    "4": "20849"
                                },
                                {
                                    "0": "2020",
                                    "1": "38",
                                    "2": "Over De Muur",
                                    "3": "1984",
                                    "4": "19307"
                                },
                                {
                                    "0": "2020",
                                    "1": "39",
                                    "2": "A Forest",
                                    "3": "1980",
                                    "4": "19864"
                                },
                                {
                                    "0": "2020",
                                    "1": "40",
                                    "2": "Hurt",
                                    "3": "2002",
                                    "4": "20376"
                                },
                                {
                                    "0": "2020",
                                    "1": "41",
                                    "2": "Go Your Own Way",
                                    "3": "1977",
                                    "4": "18857"
                                },
                                {
                                    "0": "2020",
                                    "1": "42",
                                    "2": "Telegraph Road",
                                    "3": "1982",
                                    "4": "19869"
                                },
                                {
                                    "0": "2020",
                                    "1": "43",
                                    "2": "Viva La Vida",
                                    "3": "2008",
                                    "4": "20361"
                                },
                                {
                                    "0": "2020",
                                    "1": "44",
                                    "2": "Paint It Black",
                                    "3": "1966",
                                    "4": "19661"
                                },
                                {
                                    "0": "2020",
                                    "1": "45",
                                    "2": "School",
                                    "3": "1974",
                                    "4": "20468"
                                },
                                {
                                    "0": "2020",
                                    "1": "46",
                                    "2": "Innuendo",
                                    "3": "1991",
                                    "4": "18992"
                                },
                                {
                                    "0": "2020",
                                    "1": "47",
                                    "2": "Het Dorp",
                                    "3": "1974",
                                    "4": "20135"
                                },
                                {
                                    "0": "2020",
                                    "1": "48",
                                    "2": "Bridge Over Troubled Water",
                                    "3": "1970",
                                    "4": "20758"
                                },
                                {
                                    "0": "2020",
                                    "1": "49",
                                    "2": "In The End",
                                    "3": "2000",
                                    "4": "19145"
                                },
                                {
                                    "0": "2020",
                                    "1": "50",
                                    "2": "Let It Be",
                                    "3": "1970",
                                    "4": "20158"
                                }
                            ]
                        },
                        "text/html": [
                            "<table>",
                            "<tr><th>year</th><th>rank</th><th>title</th><th>year_released</th><th>artistId</th></tr>",
                            "<tr><td>2020</td><td>1</td><td>Roller Coaster</td><td>2019</td><td>19733</td></tr>",
                            "<tr><td>2020</td><td>2</td><td>Bohemian Rhapsody</td><td>1975</td><td>18992</td></tr>",
                            "<tr><td>2020</td><td>3</td><td>Hotel California</td><td>1977</td><td>20830</td></tr>",
                            "<tr><td>2020</td><td>4</td><td>Piano Man</td><td>1974</td><td>19045</td></tr>",
                            "<tr><td>2020</td><td>5</td><td>Stairway To Heaven</td><td>1971</td><td>19103</td></tr>",
                            "<tr><td>2020</td><td>6</td><td>Black</td><td>1991</td><td>20014</td></tr>",
                            "<tr><td>2020</td><td>7</td><td>Avond</td><td>1997</td><td>19342</td></tr>",
                            "<tr><td>2020</td><td>8</td><td>Fix You</td><td>2005</td><td>20361</td></tr>",
                            "<tr><td>2020</td><td>9</td><td>Wish You Were Here</td><td>1975</td><td>19972</td></tr>",
                            "<tr><td>2020</td><td>10</td><td>Heroes</td><td>1976</td><td>20046</td></tr>",
                            "<tr><td>2020</td><td>11</td><td>Love Of My Life</td><td>1975</td><td>18992</td></tr>",
                            "<tr><td>2020</td><td>12</td><td>Soldier On</td><td>2020</td><td>19159</td></tr>",
                            "<tr><td>2020</td><td>13</td><td>Purple Rain</td><td>1984</td><td>19913</td></tr>",
                            "<tr><td>2020</td><td>14</td><td>Africa</td><td>1982</td><td>20325</td></tr>",
                            "<tr><td>2020</td><td>15</td><td>Child In Time</td><td>1970</td><td>19875</td></tr>",
                            "<tr><td>2020</td><td>16</td><td>November Rain</td><td>1992</td><td>20362</td></tr>",
                            "<tr><td>2020</td><td>17</td><td>Nothing Else Matters</td><td>1992</td><td>19100</td></tr>",
                            "<tr><td>2020</td><td>18</td><td>Brothers In Arms</td><td>1985</td><td>19869</td></tr>",
                            "<tr><td>2020</td><td>19</td><td>Comfortably Numb</td><td>1979</td><td>19972</td></tr>",
                            "<tr><td>2020</td><td>20</td><td>The Sound Of Silence</td><td>2016</td><td>20503</td></tr>",
                            "<tr><td>2020</td><td>21</td><td>The River</td><td>1981</td><td>20594</td></tr>",
                            "<tr><td>2020</td><td>22</td><td>Oceaan</td><td>2012</td><td>19713</td></tr>",
                            "<tr><td>2020</td><td>23</td><td>The Sound Of Silence</td><td>1966</td><td>20758</td></tr>",
                            "<tr><td>2020</td><td>24</td><td>Thunderstruck</td><td>1990</td><td>19968</td></tr>",
                            "<tr><td>2020</td><td>25</td><td>Smells Like Teen Spirit</td><td>1991</td><td>20583</td></tr>",
                            "<tr><td>2020</td><td>26</td><td>Imagine</td><td>1971</td><td>20848</td></tr>",
                            "<tr><td>2020</td><td>27</td><td>Sultans Of Swing</td><td>1978</td><td>19869</td></tr>",
                            "<tr><td>2020</td><td>28</td><td>Shine On You Crazy Diamond (Pts. 1-5)</td><td>1975</td><td>19972</td></tr>",
                            "<tr><td>2020</td><td>29</td><td>Door de wind</td><td>2020</td><td>19498</td></tr>",
                            "<tr><td>2020</td><td>30</td><td>One</td><td>1994</td><td>19100</td></tr>",
                            "<tr><td>2020</td><td>31</td><td>Papa</td><td>1991</td><td>20591</td></tr>",
                            "<tr><td>2020</td><td>32</td><td>Just Breathe</td><td>2009</td><td>20014</td></tr>",
                            "<tr><td>2020</td><td>33</td><td>Radar Love</td><td>1973</td><td>19739</td></tr>",
                            "<tr><td>2020</td><td>34</td><td>Paradise By The Dashboard Light</td><td>1978</td><td>20720</td></tr>",
                            "<tr><td>2020</td><td>35</td><td>Sweet Child O' Mine</td><td>1987</td><td>20362</td></tr>",
                            "<tr><td>2020</td><td>36</td><td>In The Air Tonight</td><td>1981</td><td>19218</td></tr>",
                            "<tr><td>2020</td><td>37</td><td>Shallow</td><td>2018</td><td>20849</td></tr>",
                            "<tr><td>2020</td><td>38</td><td>Over De Muur</td><td>1984</td><td>19307</td></tr>",
                            "<tr><td>2020</td><td>39</td><td>A Forest</td><td>1980</td><td>19864</td></tr>",
                            "<tr><td>2020</td><td>40</td><td>Hurt</td><td>2002</td><td>20376</td></tr>",
                            "<tr><td>2020</td><td>41</td><td>Go Your Own Way</td><td>1977</td><td>18857</td></tr>",
                            "<tr><td>2020</td><td>42</td><td>Telegraph Road</td><td>1982</td><td>19869</td></tr>",
                            "<tr><td>2020</td><td>43</td><td>Viva La Vida</td><td>2008</td><td>20361</td></tr>",
                            "<tr><td>2020</td><td>44</td><td>Paint It Black</td><td>1966</td><td>19661</td></tr>",
                            "<tr><td>2020</td><td>45</td><td>School</td><td>1974</td><td>20468</td></tr>",
                            "<tr><td>2020</td><td>46</td><td>Innuendo</td><td>1991</td><td>18992</td></tr>",
                            "<tr><td>2020</td><td>47</td><td>Het Dorp</td><td>1974</td><td>20135</td></tr>",
                            "<tr><td>2020</td><td>48</td><td>Bridge Over Troubled Water</td><td>1970</td><td>20758</td></tr>",
                            "<tr><td>2020</td><td>49</td><td>In The End</td><td>2000</td><td>19145</td></tr>",
                            "<tr><td>2020</td><td>50</td><td>Let It Be</td><td>1970</td><td>20158</td></tr>",
                            "</table>"
                        ]
                    }
                }
            ],
            "execution_count": 3
        },
        {
            "cell_type": "markdown",
            "source": [
                "Bepaal **hoeveel(=<u>count</u>)** songs er zijn met een identieke <u>titel</u>, maar uitgevoerd door verschillende artiesten. (Hint, je hebt hier in principe maar één tabel voor nodig)."
            ],
            "metadata": {
                "azdata_cell_guid": "2feed9c7-b4ce-47c3-99da-cdaafd462b5e"
            }
        },
        {
            "cell_type": "code",
            "source": [
                "--je kan artiestid of titel gebruiken\r\n",
                "SELECT s.title, COUNT(s.artistId)\r\n",
                "FROM song  as s\r\n",
                "--group by vat samen\r\n",
                "GROUP BY s.title\r\n",
                "--WHERE kan je op allerlaagst niveau filteren. HAVING kan je data wegfilteren na groepering. \r\n",
                "HAVING COUNT(s.artistId) >1 \r\n",
                "-- conclusie: in totaal 188 rijen, dus 188 songstitels die meer dan 2 keer voorkomt"
            ],
            "metadata": {
                "azdata_cell_guid": "bcbaf637-fa7d-4be0-a6e3-8ba986bc827b"
            },
            "outputs": [
                {
                    "output_type": "display_data",
                    "data": {
                        "text/html": "(188 rows affected)"
                    },
                    "metadata": {}
                },
                {
                    "output_type": "display_data",
                    "data": {
                        "text/html": "Total execution time: 00:00:00.092"
                    },
                    "metadata": {}
                },
                {
                    "output_type": "execute_result",
                    "metadata": {
                        "resultSet": {
                            "id": 0,
                            "batchId": 0,
                            "rowCount": 188,
                            "complete": true,
                            "columnInfo": [
                                {
                                    "isBytes": false,
                                    "isChars": true,
                                    "isSqlVariant": false,
                                    "isUdt": false,
                                    "isXml": false,
                                    "isJson": false,
                                    "sqlDbType": 22,
                                    "isHierarchyId": false,
                                    "isSqlXmlType": false,
                                    "isUnknownType": false,
                                    "isUpdatable": true,
                                    "allowDBNull": false,
                                    "baseCatalogName": null,
                                    "baseColumnName": null,
                                    "baseSchemaName": null,
                                    "baseServerName": null,
                                    "baseTableName": null,
                                    "columnName": "title",
                                    "columnOrdinal": 0,
                                    "columnSize": 255,
                                    "isAliased": null,
                                    "isAutoIncrement": false,
                                    "isExpression": null,
                                    "isHidden": null,
                                    "isIdentity": false,
                                    "isKey": null,
                                    "isLong": false,
                                    "isReadOnly": false,
                                    "isUnique": false,
                                    "numericPrecision": 255,
                                    "numericScale": 255,
                                    "udtAssemblyQualifiedName": null,
                                    "dataType": "System.String, System.Private.CoreLib, Version=4.0.0.0, Culture=neutral, PublicKeyToken=7cec85d7bea7798e",
                                    "dataTypeName": "varchar"
                                },
                                {
                                    "isBytes": false,
                                    "isChars": false,
                                    "isSqlVariant": false,
                                    "isUdt": false,
                                    "isXml": false,
                                    "isJson": false,
                                    "sqlDbType": 8,
                                    "isHierarchyId": false,
                                    "isSqlXmlType": false,
                                    "isUnknownType": false,
                                    "isUpdatable": false,
                                    "allowDBNull": true,
                                    "baseCatalogName": null,
                                    "baseColumnName": null,
                                    "baseSchemaName": null,
                                    "baseServerName": null,
                                    "baseTableName": null,
                                    "columnName": "(No column name)",
                                    "columnOrdinal": 1,
                                    "columnSize": 4,
                                    "isAliased": null,
                                    "isAutoIncrement": false,
                                    "isExpression": null,
                                    "isHidden": null,
                                    "isIdentity": false,
                                    "isKey": null,
                                    "isLong": false,
                                    "isReadOnly": true,
                                    "isUnique": false,
                                    "numericPrecision": 10,
                                    "numericScale": 255,
                                    "udtAssemblyQualifiedName": null,
                                    "dataType": "System.Int32, System.Private.CoreLib, Version=4.0.0.0, Culture=neutral, PublicKeyToken=7cec85d7bea7798e",
                                    "dataTypeName": "int"
                                }
                            ],
                            "specialAction": {
                                "none": true,
                                "expectYukonXMLShowPlan": false
                            }
                        }
                    },
                    "execution_count": 5,
                    "data": {
                        "application/vnd.dataresource+json": {
                            "schema": {
                                "fields": [
                                    {
                                        "name": "title"
                                    },
                                    {
                                        "name": "(No column name)"
                                    }
                                ]
                            },
                            "data": [
                                {
                                    "0": "Afscheid",
                                    "1": "2"
                                },
                                {
                                    "0": "After Midnight",
                                    "1": "2"
                                },
                                {
                                    "0": "Ain't No Mountain High Enough",
                                    "1": "2"
                                },
                                {
                                    "0": "Alive",
                                    "1": "2"
                                },
                                {
                                    "0": "All My Life",
                                    "1": "2"
                                },
                                {
                                    "0": "All The Love In The World",
                                    "1": "2"
                                },
                                {
                                    "0": "Always On My Mind",
                                    "1": "3"
                                },
                                {
                                    "0": "Amsterdam",
                                    "1": "2"
                                },
                                {
                                    "0": "Anne",
                                    "1": "2"
                                },
                                {
                                    "0": "Another Day",
                                    "1": "3"
                                },
                                {
                                    "0": "Anyone Who Had A Heart",
                                    "1": "2"
                                },
                                {
                                    "0": "As",
                                    "1": "2"
                                },
                                {
                                    "0": "As Tears Go By",
                                    "1": "2"
                                },
                                {
                                    "0": "Back Home",
                                    "1": "2"
                                },
                                {
                                    "0": "Bad",
                                    "1": "2"
                                },
                                {
                                    "0": "Beast Of Burden",
                                    "1": "2"
                                },
                                {
                                    "0": "Beautiful day",
                                    "1": "2"
                                },
                                {
                                    "0": "Beautiful People",
                                    "1": "3"
                                },
                                {
                                    "0": "Behind Blue Eyes",
                                    "1": "2"
                                },
                                {
                                    "0": "Big Yellow Taxi",
                                    "1": "2"
                                },
                                {
                                    "0": "Birds",
                                    "1": "2"
                                },
                                {
                                    "0": "Black Magic Woman",
                                    "1": "2"
                                },
                                {
                                    "0": "Blue Monday",
                                    "1": "2"
                                },
                                {
                                    "0": "Both Sides Now",
                                    "1": "2"
                                },
                                {
                                    "0": "Breakaway",
                                    "1": "2"
                                },
                                {
                                    "0": "Burning Heart",
                                    "1": "2"
                                },
                                {
                                    "0": "Butterfly",
                                    "1": "2"
                                },
                                {
                                    "0": "Can't Help Falling In Love",
                                    "1": "2"
                                },
                                {
                                    "0": "Candy",
                                    "1": "2"
                                },
                                {
                                    "0": "Changes",
                                    "1": "2"
                                },
                                {
                                    "0": "Cocaine",
                                    "1": "2"
                                },
                                {
                                    "0": "Crazy",
                                    "1": "5"
                                },
                                {
                                    "0": "Daydream",
                                    "1": "2"
                                },
                                {
                                    "0": "Diamonds",
                                    "1": "2"
                                },
                                {
                                    "0": "Do It Again",
                                    "1": "2"
                                },
                                {
                                    "0": "Do You Love Me",
                                    "1": "2"
                                },
                                {
                                    "0": "Domino",
                                    "1": "2"
                                },
                                {
                                    "0": "Don't Bring Me Down",
                                    "1": "2"
                                },
                                {
                                    "0": "Don't Leave Me This Way",
                                    "1": "3"
                                },
                                {
                                    "0": "Don't Let Me Be Misunderstood",
                                    "1": "2"
                                },
                                {
                                    "0": "Don't Let The Sun Go Down On Me",
                                    "1": "2"
                                },
                                {
                                    "0": "Don't You Worry 'Bout A Thing",
                                    "1": "2"
                                },
                                {
                                    "0": "Donna",
                                    "1": "2"
                                },
                                {
                                    "0": "Drive",
                                    "1": "2"
                                },
                                {
                                    "0": "Everlasting Love",
                                    "1": "2"
                                },
                                {
                                    "0": "Everytime I Think Of You",
                                    "1": "2"
                                },
                                {
                                    "0": "Fame",
                                    "1": "2"
                                },
                                {
                                    "0": "Feeling Good",
                                    "1": "3"
                                },
                                {
                                    "0": "Fields Of Gold",
                                    "1": "2"
                                },
                                {
                                    "0": "Fire",
                                    "1": "2"
                                },
                                {
                                    "0": "Forever And Ever",
                                    "1": "2"
                                },
                                {
                                    "0": "Freedom",
                                    "1": "3"
                                },
                                {
                                    "0": "Geef Mij Je Angst",
                                    "1": "2"
                                },
                                {
                                    "0": "Girl",
                                    "1": "2"
                                },
                                {
                                    "0": "Give Me Love",
                                    "1": "2"
                                },
                                {
                                    "0": "Gloria",
                                    "1": "2"
                                },
                                {
                                    "0": "Gold",
                                    "1": "2"
                                },
                                {
                                    "0": "Hallelujah",
                                    "1": "4"
                                },
                                {
                                    "0": "Happiness",
                                    "1": "2"
                                },
                                {
                                    "0": "Hard To Handle",
                                    "1": "2"
                                },
                                {
                                    "0": "He'll Have To Go",
                                    "1": "2"
                                },
                                {
                                    "0": "Heaven",
                                    "1": "3"
                                },
                                {
                                    "0": "Hello",
                                    "1": "2"
                                },
                                {
                                    "0": "Hero",
                                    "1": "3"
                                },
                                {
                                    "0": "High Hopes",
                                    "1": "2"
                                },
                                {
                                    "0": "Hit The Road Jack",
                                    "1": "2"
                                },
                                {
                                    "0": "Hold Me",
                                    "1": "2"
                                },
                                {
                                    "0": "Hold Me Now",
                                    "1": "2"
                                },
                                {
                                    "0": "Holiday",
                                    "1": "3"
                                },
                                {
                                    "0": "Home",
                                    "1": "4"
                                },
                                {
                                    "0": "Home Again",
                                    "1": "2"
                                },
                                {
                                    "0": "How Long",
                                    "1": "2"
                                },
                                {
                                    "0": "Human",
                                    "1": "2"
                                },
                                {
                                    "0": "Hurricane",
                                    "1": "2"
                                },
                                {
                                    "0": "Hurt",
                                    "1": "4"
                                },
                                {
                                    "0": "I Can't Make You Love Me",
                                    "1": "2"
                                },
                                {
                                    "0": "I Got You Babe",
                                    "1": "2"
                                },
                                {
                                    "0": "I Heard It Through The Grapevine",
                                    "1": "2"
                                },
                                {
                                    "0": "I Put A Spell On You",
                                    "1": "2"
                                },
                                {
                                    "0": "I Want You",
                                    "1": "2"
                                },
                                {
                                    "0": "I Want You Back",
                                    "1": "2"
                                },
                                {
                                    "0": "I Will Always Love You",
                                    "1": "2"
                                },
                                {
                                    "0": "I'd Rather Go Blind",
                                    "1": "2"
                                },
                                {
                                    "0": "I'm A Believer",
                                    "1": "2"
                                },
                                {
                                    "0": "I'm On Fire",
                                    "1": "2"
                                },
                                {
                                    "0": "If You Could Read My Mind",
                                    "1": "2"
                                },
                                {
                                    "0": "Is This Love",
                                    "1": "2"
                                },
                                {
                                    "0": "It Takes Two",
                                    "1": "2"
                                },
                                {
                                    "0": "It's My Life",
                                    "1": "3"
                                },
                                {
                                    "0": "It's Over",
                                    "1": "2"
                                },
                                {
                                    "0": "Jealous Guy",
                                    "1": "2"
                                },
                                {
                                    "0": "Just An Illusion",
                                    "1": "2"
                                },
                                {
                                    "0": "Just The Way You Are",
                                    "1": "2"
                                },
                                {
                                    "0": "Keep Your Head Up",
                                    "1": "2"
                                },
                                {
                                    "0": "Kiss",
                                    "1": "2"
                                },
                                {
                                    "0": "Knock On Wood",
                                    "1": "2"
                                },
                                {
                                    "0": "Knockin' On Heaven's Door",
                                    "1": "3"
                                },
                                {
                                    "0": "La Bamba",
                                    "1": "3"
                                },
                                {
                                    "0": "La Mamma",
                                    "1": "2"
                                },
                                {
                                    "0": "Let's Dance",
                                    "1": "4"
                                },
                                {
                                    "0": "Let's Stay Together",
                                    "1": "2"
                                },
                                {
                                    "0": "Little Sister",
                                    "1": "2"
                                },
                                {
                                    "0": "Live And Let Die",
                                    "1": "2"
                                },
                                {
                                    "0": "Lonely Boy",
                                    "1": "3"
                                },
                                {
                                    "0": "Long Tall Sally",
                                    "1": "2"
                                },
                                {
                                    "0": "Lost",
                                    "1": "4"
                                },
                                {
                                    "0": "MacArthur Park",
                                    "1": "2"
                                },
                                {
                                    "0": "Mad World",
                                    "1": "2"
                                },
                                {
                                    "0": "Magic",
                                    "1": "2"
                                },
                                {
                                    "0": "Mama",
                                    "1": "2"
                                },
                                {
                                    "0": "Many Rivers To Cross",
                                    "1": "2"
                                },
                                {
                                    "0": "Memories",
                                    "1": "2"
                                },
                                {
                                    "0": "Mercy",
                                    "1": "3"
                                },
                                {
                                    "0": "Mexico",
                                    "1": "3"
                                },
                                {
                                    "0": "More Than A Woman",
                                    "1": "2"
                                },
                                {
                                    "0": "Mr. Bojangles",
                                    "1": "3"
                                },
                                {
                                    "0": "My Love",
                                    "1": "2"
                                },
                                {
                                    "0": "My Way",
                                    "1": "2"
                                },
                                {
                                    "0": "Needles And Pins",
                                    "1": "2"
                                },
                                {
                                    "0": "Next To Me",
                                    "1": "2"
                                },
                                {
                                    "0": "No Surrender",
                                    "1": "2"
                                },
                                {
                                    "0": "One",
                                    "1": "4"
                                },
                                {
                                    "0": "One Way Ticket",
                                    "1": "2"
                                },
                                {
                                    "0": "Only You",
                                    "1": "2"
                                },
                                {
                                    "0": "Our House",
                                    "1": "2"
                                },
                                {
                                    "0": "Patience",
                                    "1": "2"
                                },
                                {
                                    "0": "Perfect",
                                    "1": "2"
                                },
                                {
                                    "0": "Photograph",
                                    "1": "2"
                                },
                                {
                                    "0": "Pied Piper",
                                    "1": "2"
                                },
                                {
                                    "0": "Proud Mary",
                                    "1": "2"
                                },
                                {
                                    "0": "Radio",
                                    "1": "3"
                                },
                                {
                                    "0": "Reach Out I'll Be There",
                                    "1": "2"
                                },
                                {
                                    "0": "Ring Of Fire",
                                    "1": "2"
                                },
                                {
                                    "0": "Roll Over Beethoven",
                                    "1": "2"
                                },
                                {
                                    "0": "Rosie",
                                    "1": "3"
                                },
                                {
                                    "0": "Ruby Tuesday",
                                    "1": "2"
                                },
                                {
                                    "0": "Run",
                                    "1": "2"
                                },
                                {
                                    "0": "Sacrifice",
                                    "1": "2"
                                },
                                {
                                    "0": "Sailing",
                                    "1": "2"
                                },
                                {
                                    "0": "Saturday Night",
                                    "1": "2"
                                },
                                {
                                    "0": "Save A Prayer",
                                    "1": "2"
                                },
                                {
                                    "0": "Save Me",
                                    "1": "2"
                                },
                                {
                                    "0": "Sealed With A Kiss",
                                    "1": "2"
                                },
                                {
                                    "0": "She",
                                    "1": "2"
                                },
                                {
                                    "0": "Shout",
                                    "1": "2"
                                },
                                {
                                    "0": "Singing In The Rain",
                                    "1": "2"
                                },
                                {
                                    "0": "Smoke Gets In Your Eyes",
                                    "1": "2"
                                },
                                {
                                    "0": "Somebody To Love",
                                    "1": "2"
                                },
                                {
                                    "0": "Something",
                                    "1": "2"
                                },
                                {
                                    "0": "Songbird",
                                    "1": "2"
                                },
                                {
                                    "0": "Sorry",
                                    "1": "4"
                                },
                                {
                                    "0": "Stay",
                                    "1": "2"
                                },
                                {
                                    "0": "Stay With Me",
                                    "1": "2"
                                },
                                {
                                    "0": "Substitute",
                                    "1": "2"
                                },
                                {
                                    "0": "Summer In The City",
                                    "1": "2"
                                },
                                {
                                    "0": "Summer Nights",
                                    "1": "2"
                                },
                                {
                                    "0": "Summertime",
                                    "1": "4"
                                },
                                {
                                    "0": "Sunrise",
                                    "1": "2"
                                },
                                {
                                    "0": "Suzanne",
                                    "1": "3"
                                },
                                {
                                    "0": "Sweet Jane",
                                    "1": "2"
                                },
                                {
                                    "0": "The Letter",
                                    "1": "2"
                                },
                                {
                                    "0": "The Look Of Love",
                                    "1": "2"
                                },
                                {
                                    "0": "The Man Who Sold The World",
                                    "1": "2"
                                },
                                {
                                    "0": "The Power Of Love",
                                    "1": "4"
                                },
                                {
                                    "0": "The Pretender",
                                    "1": "2"
                                },
                                {
                                    "0": "The Sound Of Silence",
                                    "1": "2"
                                },
                                {
                                    "0": "The Weight",
                                    "1": "2"
                                },
                                {
                                    "0": "The Windmills Of Your Mind",
                                    "1": "2"
                                },
                                {
                                    "0": "Upside Down",
                                    "1": "2"
                                },
                                {
                                    "0": "Use Somebody",
                                    "1": "2"
                                },
                                {
                                    "0": "Venus",
                                    "1": "2"
                                },
                                {
                                    "0": "Voorbij",
                                    "1": "2"
                                },
                                {
                                    "0": "War",
                                    "1": "2"
                                },
                                {
                                    "0": "Wat Zou Je Doen",
                                    "1": "2"
                                },
                                {
                                    "0": "What Becomes Of The Broken Hearted",
                                    "1": "2"
                                },
                                {
                                    "0": "Wheels",
                                    "1": "3"
                                },
                                {
                                    "0": "When You're Gone",
                                    "1": "2"
                                },
                                {
                                    "0": "Why",
                                    "1": "2"
                                },
                                {
                                    "0": "Wild Horses",
                                    "1": "2"
                                },
                                {
                                    "0": "Wit Licht",
                                    "1": "2"
                                },
                                {
                                    "0": "Without You",
                                    "1": "2"
                                },
                                {
                                    "0": "Woman",
                                    "1": "3"
                                },
                                {
                                    "0": "Wonderful World",
                                    "1": "2"
                                },
                                {
                                    "0": "Words",
                                    "1": "3"
                                },
                                {
                                    "0": "You Can't Hurry Love",
                                    "1": "2"
                                },
                                {
                                    "0": "You Really Got Me",
                                    "1": "2"
                                },
                                {
                                    "0": "You'll Never Walk Alone",
                                    "1": "2"
                                },
                                {
                                    "0": "You've Got A Friend",
                                    "1": "2"
                                }
                            ]
                        },
                        "text/html": [
                            "<table>",
                            "<tr><th>title</th><th>(No column name)</th></tr>",
                            "<tr><td>Afscheid</td><td>2</td></tr>",
                            "<tr><td>After Midnight</td><td>2</td></tr>",
                            "<tr><td>Ain't No Mountain High Enough</td><td>2</td></tr>",
                            "<tr><td>Alive</td><td>2</td></tr>",
                            "<tr><td>All My Life</td><td>2</td></tr>",
                            "<tr><td>All The Love In The World</td><td>2</td></tr>",
                            "<tr><td>Always On My Mind</td><td>3</td></tr>",
                            "<tr><td>Amsterdam</td><td>2</td></tr>",
                            "<tr><td>Anne</td><td>2</td></tr>",
                            "<tr><td>Another Day</td><td>3</td></tr>",
                            "<tr><td>Anyone Who Had A Heart</td><td>2</td></tr>",
                            "<tr><td>As</td><td>2</td></tr>",
                            "<tr><td>As Tears Go By</td><td>2</td></tr>",
                            "<tr><td>Back Home</td><td>2</td></tr>",
                            "<tr><td>Bad</td><td>2</td></tr>",
                            "<tr><td>Beast Of Burden</td><td>2</td></tr>",
                            "<tr><td>Beautiful day</td><td>2</td></tr>",
                            "<tr><td>Beautiful People</td><td>3</td></tr>",
                            "<tr><td>Behind Blue Eyes</td><td>2</td></tr>",
                            "<tr><td>Big Yellow Taxi</td><td>2</td></tr>",
                            "<tr><td>Birds</td><td>2</td></tr>",
                            "<tr><td>Black Magic Woman</td><td>2</td></tr>",
                            "<tr><td>Blue Monday</td><td>2</td></tr>",
                            "<tr><td>Both Sides Now</td><td>2</td></tr>",
                            "<tr><td>Breakaway</td><td>2</td></tr>",
                            "<tr><td>Burning Heart</td><td>2</td></tr>",
                            "<tr><td>Butterfly</td><td>2</td></tr>",
                            "<tr><td>Can't Help Falling In Love</td><td>2</td></tr>",
                            "<tr><td>Candy</td><td>2</td></tr>",
                            "<tr><td>Changes</td><td>2</td></tr>",
                            "<tr><td>Cocaine</td><td>2</td></tr>",
                            "<tr><td>Crazy</td><td>5</td></tr>",
                            "<tr><td>Daydream</td><td>2</td></tr>",
                            "<tr><td>Diamonds</td><td>2</td></tr>",
                            "<tr><td>Do It Again</td><td>2</td></tr>",
                            "<tr><td>Do You Love Me</td><td>2</td></tr>",
                            "<tr><td>Domino</td><td>2</td></tr>",
                            "<tr><td>Don't Bring Me Down</td><td>2</td></tr>",
                            "<tr><td>Don't Leave Me This Way</td><td>3</td></tr>",
                            "<tr><td>Don't Let Me Be Misunderstood</td><td>2</td></tr>",
                            "<tr><td>Don't Let The Sun Go Down On Me</td><td>2</td></tr>",
                            "<tr><td>Don't You Worry 'Bout A Thing</td><td>2</td></tr>",
                            "<tr><td>Donna</td><td>2</td></tr>",
                            "<tr><td>Drive</td><td>2</td></tr>",
                            "<tr><td>Everlasting Love</td><td>2</td></tr>",
                            "<tr><td>Everytime I Think Of You</td><td>2</td></tr>",
                            "<tr><td>Fame</td><td>2</td></tr>",
                            "<tr><td>Feeling Good</td><td>3</td></tr>",
                            "<tr><td>Fields Of Gold</td><td>2</td></tr>",
                            "<tr><td>Fire</td><td>2</td></tr>",
                            "<tr><td>Forever And Ever</td><td>2</td></tr>",
                            "<tr><td>Freedom</td><td>3</td></tr>",
                            "<tr><td>Geef Mij Je Angst</td><td>2</td></tr>",
                            "<tr><td>Girl</td><td>2</td></tr>",
                            "<tr><td>Give Me Love</td><td>2</td></tr>",
                            "<tr><td>Gloria</td><td>2</td></tr>",
                            "<tr><td>Gold</td><td>2</td></tr>",
                            "<tr><td>Hallelujah</td><td>4</td></tr>",
                            "<tr><td>Happiness</td><td>2</td></tr>",
                            "<tr><td>Hard To Handle</td><td>2</td></tr>",
                            "<tr><td>He'll Have To Go</td><td>2</td></tr>",
                            "<tr><td>Heaven</td><td>3</td></tr>",
                            "<tr><td>Hello</td><td>2</td></tr>",
                            "<tr><td>Hero</td><td>3</td></tr>",
                            "<tr><td>High Hopes</td><td>2</td></tr>",
                            "<tr><td>Hit The Road Jack</td><td>2</td></tr>",
                            "<tr><td>Hold Me</td><td>2</td></tr>",
                            "<tr><td>Hold Me Now</td><td>2</td></tr>",
                            "<tr><td>Holiday</td><td>3</td></tr>",
                            "<tr><td>Home</td><td>4</td></tr>",
                            "<tr><td>Home Again</td><td>2</td></tr>",
                            "<tr><td>How Long</td><td>2</td></tr>",
                            "<tr><td>Human</td><td>2</td></tr>",
                            "<tr><td>Hurricane</td><td>2</td></tr>",
                            "<tr><td>Hurt</td><td>4</td></tr>",
                            "<tr><td>I Can't Make You Love Me</td><td>2</td></tr>",
                            "<tr><td>I Got You Babe</td><td>2</td></tr>",
                            "<tr><td>I Heard It Through The Grapevine</td><td>2</td></tr>",
                            "<tr><td>I Put A Spell On You</td><td>2</td></tr>",
                            "<tr><td>I Want You</td><td>2</td></tr>",
                            "<tr><td>I Want You Back</td><td>2</td></tr>",
                            "<tr><td>I Will Always Love You</td><td>2</td></tr>",
                            "<tr><td>I'd Rather Go Blind</td><td>2</td></tr>",
                            "<tr><td>I'm A Believer</td><td>2</td></tr>",
                            "<tr><td>I'm On Fire</td><td>2</td></tr>",
                            "<tr><td>If You Could Read My Mind</td><td>2</td></tr>",
                            "<tr><td>Is This Love</td><td>2</td></tr>",
                            "<tr><td>It Takes Two</td><td>2</td></tr>",
                            "<tr><td>It's My Life</td><td>3</td></tr>",
                            "<tr><td>It's Over</td><td>2</td></tr>",
                            "<tr><td>Jealous Guy</td><td>2</td></tr>",
                            "<tr><td>Just An Illusion</td><td>2</td></tr>",
                            "<tr><td>Just The Way You Are</td><td>2</td></tr>",
                            "<tr><td>Keep Your Head Up</td><td>2</td></tr>",
                            "<tr><td>Kiss</td><td>2</td></tr>",
                            "<tr><td>Knock On Wood</td><td>2</td></tr>",
                            "<tr><td>Knockin' On Heaven's Door</td><td>3</td></tr>",
                            "<tr><td>La Bamba</td><td>3</td></tr>",
                            "<tr><td>La Mamma</td><td>2</td></tr>",
                            "<tr><td>Let's Dance</td><td>4</td></tr>",
                            "<tr><td>Let's Stay Together</td><td>2</td></tr>",
                            "<tr><td>Little Sister</td><td>2</td></tr>",
                            "<tr><td>Live And Let Die</td><td>2</td></tr>",
                            "<tr><td>Lonely Boy</td><td>3</td></tr>",
                            "<tr><td>Long Tall Sally</td><td>2</td></tr>",
                            "<tr><td>Lost</td><td>4</td></tr>",
                            "<tr><td>MacArthur Park</td><td>2</td></tr>",
                            "<tr><td>Mad World</td><td>2</td></tr>",
                            "<tr><td>Magic</td><td>2</td></tr>",
                            "<tr><td>Mama</td><td>2</td></tr>",
                            "<tr><td>Many Rivers To Cross</td><td>2</td></tr>",
                            "<tr><td>Memories</td><td>2</td></tr>",
                            "<tr><td>Mercy</td><td>3</td></tr>",
                            "<tr><td>Mexico</td><td>3</td></tr>",
                            "<tr><td>More Than A Woman</td><td>2</td></tr>",
                            "<tr><td>Mr. Bojangles</td><td>3</td></tr>",
                            "<tr><td>My Love</td><td>2</td></tr>",
                            "<tr><td>My Way</td><td>2</td></tr>",
                            "<tr><td>Needles And Pins</td><td>2</td></tr>",
                            "<tr><td>Next To Me</td><td>2</td></tr>",
                            "<tr><td>No Surrender</td><td>2</td></tr>",
                            "<tr><td>One</td><td>4</td></tr>",
                            "<tr><td>One Way Ticket</td><td>2</td></tr>",
                            "<tr><td>Only You</td><td>2</td></tr>",
                            "<tr><td>Our House</td><td>2</td></tr>",
                            "<tr><td>Patience</td><td>2</td></tr>",
                            "<tr><td>Perfect</td><td>2</td></tr>",
                            "<tr><td>Photograph</td><td>2</td></tr>",
                            "<tr><td>Pied Piper</td><td>2</td></tr>",
                            "<tr><td>Proud Mary</td><td>2</td></tr>",
                            "<tr><td>Radio</td><td>3</td></tr>",
                            "<tr><td>Reach Out I'll Be There</td><td>2</td></tr>",
                            "<tr><td>Ring Of Fire</td><td>2</td></tr>",
                            "<tr><td>Roll Over Beethoven</td><td>2</td></tr>",
                            "<tr><td>Rosie</td><td>3</td></tr>",
                            "<tr><td>Ruby Tuesday</td><td>2</td></tr>",
                            "<tr><td>Run</td><td>2</td></tr>",
                            "<tr><td>Sacrifice</td><td>2</td></tr>",
                            "<tr><td>Sailing</td><td>2</td></tr>",
                            "<tr><td>Saturday Night</td><td>2</td></tr>",
                            "<tr><td>Save A Prayer</td><td>2</td></tr>",
                            "<tr><td>Save Me</td><td>2</td></tr>",
                            "<tr><td>Sealed With A Kiss</td><td>2</td></tr>",
                            "<tr><td>She</td><td>2</td></tr>",
                            "<tr><td>Shout</td><td>2</td></tr>",
                            "<tr><td>Singing In The Rain</td><td>2</td></tr>",
                            "<tr><td>Smoke Gets In Your Eyes</td><td>2</td></tr>",
                            "<tr><td>Somebody To Love</td><td>2</td></tr>",
                            "<tr><td>Something</td><td>2</td></tr>",
                            "<tr><td>Songbird</td><td>2</td></tr>",
                            "<tr><td>Sorry</td><td>4</td></tr>",
                            "<tr><td>Stay</td><td>2</td></tr>",
                            "<tr><td>Stay With Me</td><td>2</td></tr>",
                            "<tr><td>Substitute</td><td>2</td></tr>",
                            "<tr><td>Summer In The City</td><td>2</td></tr>",
                            "<tr><td>Summer Nights</td><td>2</td></tr>",
                            "<tr><td>Summertime</td><td>4</td></tr>",
                            "<tr><td>Sunrise</td><td>2</td></tr>",
                            "<tr><td>Suzanne</td><td>3</td></tr>",
                            "<tr><td>Sweet Jane</td><td>2</td></tr>",
                            "<tr><td>The Letter</td><td>2</td></tr>",
                            "<tr><td>The Look Of Love</td><td>2</td></tr>",
                            "<tr><td>The Man Who Sold The World</td><td>2</td></tr>",
                            "<tr><td>The Power Of Love</td><td>4</td></tr>",
                            "<tr><td>The Pretender</td><td>2</td></tr>",
                            "<tr><td>The Sound Of Silence</td><td>2</td></tr>",
                            "<tr><td>The Weight</td><td>2</td></tr>",
                            "<tr><td>The Windmills Of Your Mind</td><td>2</td></tr>",
                            "<tr><td>Upside Down</td><td>2</td></tr>",
                            "<tr><td>Use Somebody</td><td>2</td></tr>",
                            "<tr><td>Venus</td><td>2</td></tr>",
                            "<tr><td>Voorbij</td><td>2</td></tr>",
                            "<tr><td>War</td><td>2</td></tr>",
                            "<tr><td>Wat Zou Je Doen</td><td>2</td></tr>",
                            "<tr><td>What Becomes Of The Broken Hearted</td><td>2</td></tr>",
                            "<tr><td>Wheels</td><td>3</td></tr>",
                            "<tr><td>When You're Gone</td><td>2</td></tr>",
                            "<tr><td>Why</td><td>2</td></tr>",
                            "<tr><td>Wild Horses</td><td>2</td></tr>",
                            "<tr><td>Wit Licht</td><td>2</td></tr>",
                            "<tr><td>Without You</td><td>2</td></tr>",
                            "<tr><td>Woman</td><td>3</td></tr>",
                            "<tr><td>Wonderful World</td><td>2</td></tr>",
                            "<tr><td>Words</td><td>3</td></tr>",
                            "<tr><td>You Can't Hurry Love</td><td>2</td></tr>",
                            "<tr><td>You Really Got Me</td><td>2</td></tr>",
                            "<tr><td>You'll Never Walk Alone</td><td>2</td></tr>",
                            "<tr><td>You've Got A Friend</td><td>2</td></tr>",
                            "</table>"
                        ]
                    }
                }
            ],
            "execution_count": 5
        },
        {
            "cell_type": "markdown",
            "source": [
                "Nu we weten welke **songs** door meer dan 1 **artiest** zijn uitgevoerd. Willen we ook lijst hebben van die songs samen met de bij behorende artiesten. (Hint, wellicht dat een **derived table** hier de oplossing is.)"
            ],
            "metadata": {
                "azdata_cell_guid": "1ad42ad2-8fba-4512-b69d-1088fae051d7"
            }
        },
        {
            "cell_type": "code",
            "source": [
                "-- je filtert via derived table eerst hoe vaak een titel voorkomt. \r\n",
                "-- daarna in buitenste select om detail informatie op te halen welke song bij artiest hoort. \r\n",
                "SELECT s.title, a.artist\r\n",
                "FROM song as s\r\n",
                "JOIN artist as a ON s.artistId = a.artistId\r\n",
                "JOIN (SELECT title, count(artistId) as cnt\r\n",
                "        FROM song\r\n",
                "        GROUP BY title\r\n",
                "        -- title = geen pk. met geagregeerde titel kan je geen unieke waarde gebruiken, anders zie je geen herhaalde waarden. \r\n",
                "        HAVING COUNT(artistId)>1) as d on s.title = d.title\r\n",
                "ORDER BY s.title, a.artist\r\n",
                "\r\n",
                "-- je moet aggregatie functie een alias geven\r\n",
                "--derived table moet een eigen alias hebben anders werkt het niet \r\n",
                "--Een reden om een afgeleide(derived) tabel op te nemen in een buitenste query is om de buitenste query te vereenvoudigen."
            ],
            "metadata": {
                "azdata_cell_guid": "24d98890-f7a0-4250-bafc-00de90e4fa7e",
                "tags": []
            },
            "outputs": [
                {
                    "output_type": "display_data",
                    "data": {
                        "text/html": "(419 rows affected)"
                    },
                    "metadata": {}
                },
                {
                    "output_type": "display_data",
                    "data": {
                        "text/html": "Total execution time: 00:00:00.254"
                    },
                    "metadata": {}
                },
                {
                    "output_type": "execute_result",
                    "metadata": {
                        "resultSet": {
                            "id": 0,
                            "batchId": 0,
                            "rowCount": 419,
                            "complete": true,
                            "columnInfo": [
                                {
                                    "isBytes": false,
                                    "isChars": true,
                                    "isSqlVariant": false,
                                    "isUdt": false,
                                    "isXml": false,
                                    "isJson": false,
                                    "sqlDbType": 22,
                                    "isHierarchyId": false,
                                    "isSqlXmlType": false,
                                    "isUnknownType": false,
                                    "isUpdatable": true,
                                    "allowDBNull": false,
                                    "baseCatalogName": null,
                                    "baseColumnName": null,
                                    "baseSchemaName": null,
                                    "baseServerName": null,
                                    "baseTableName": null,
                                    "columnName": "title",
                                    "columnOrdinal": 0,
                                    "columnSize": 255,
                                    "isAliased": null,
                                    "isAutoIncrement": false,
                                    "isExpression": null,
                                    "isHidden": null,
                                    "isIdentity": false,
                                    "isKey": null,
                                    "isLong": false,
                                    "isReadOnly": false,
                                    "isUnique": false,
                                    "numericPrecision": 255,
                                    "numericScale": 255,
                                    "udtAssemblyQualifiedName": null,
                                    "dataType": "System.String, System.Private.CoreLib, Version=4.0.0.0, Culture=neutral, PublicKeyToken=7cec85d7bea7798e",
                                    "dataTypeName": "varchar"
                                },
                                {
                                    "isBytes": false,
                                    "isChars": true,
                                    "isSqlVariant": false,
                                    "isUdt": false,
                                    "isXml": false,
                                    "isJson": false,
                                    "sqlDbType": 22,
                                    "isHierarchyId": false,
                                    "isSqlXmlType": false,
                                    "isUnknownType": false,
                                    "isUpdatable": true,
                                    "allowDBNull": false,
                                    "baseCatalogName": null,
                                    "baseColumnName": null,
                                    "baseSchemaName": null,
                                    "baseServerName": null,
                                    "baseTableName": null,
                                    "columnName": "artist",
                                    "columnOrdinal": 1,
                                    "columnSize": 255,
                                    "isAliased": null,
                                    "isAutoIncrement": false,
                                    "isExpression": null,
                                    "isHidden": null,
                                    "isIdentity": false,
                                    "isKey": null,
                                    "isLong": false,
                                    "isReadOnly": false,
                                    "isUnique": false,
                                    "numericPrecision": 255,
                                    "numericScale": 255,
                                    "udtAssemblyQualifiedName": null,
                                    "dataType": "System.String, System.Private.CoreLib, Version=4.0.0.0, Culture=neutral, PublicKeyToken=7cec85d7bea7798e",
                                    "dataTypeName": "varchar"
                                }
                            ],
                            "specialAction": {
                                "none": true,
                                "expectYukonXMLShowPlan": false
                            }
                        }
                    },
                    "execution_count": 7,
                    "data": {
                        "application/vnd.dataresource+json": {
                            "schema": {
                                "fields": [
                                    {
                                        "name": "title"
                                    },
                                    {
                                        "name": "artist"
                                    }
                                ]
                            },
                            "data": [
                                {
                                    "0": "Afscheid",
                                    "1": "Glennis Grace"
                                },
                                {
                                    "0": "Afscheid",
                                    "1": "Volumia!"
                                },
                                {
                                    "0": "After Midnight",
                                    "1": "Eric Clapton"
                                },
                                {
                                    "0": "After Midnight",
                                    "1": "J.J. Cale"
                                },
                                {
                                    "0": "Ain't No Mountain High Enough",
                                    "1": "Diana Ross"
                                },
                                {
                                    "0": "Ain't No Mountain High Enough",
                                    "1": "Marvin Gaye & Tammi Terrell"
                                },
                                {
                                    "0": "Alive",
                                    "1": "Meat Loaf"
                                },
                                {
                                    "0": "Alive",
                                    "1": "Pearl Jam"
                                },
                                {
                                    "0": "All My Life",
                                    "1": "Foo Fighters"
                                },
                                {
                                    "0": "All My Life",
                                    "1": "Krezip"
                                },
                                {
                                    "0": "All The Love In The World",
                                    "1": "Consortium"
                                },
                                {
                                    "0": "All The Love In The World",
                                    "1": "Dionne Warwick"
                                },
                                {
                                    "0": "Always On My Mind",
                                    "1": "Elvis Presley"
                                },
                                {
                                    "0": "Always On My Mind",
                                    "1": "Pet Shop Boys"
                                },
                                {
                                    "0": "Always On My Mind",
                                    "1": "Willie Nelson"
                                },
                                {
                                    "0": "Amsterdam",
                                    "1": "Coldplay"
                                },
                                {
                                    "0": "Amsterdam",
                                    "1": "Nothing But Thieves"
                                },
                                {
                                    "0": "Anne",
                                    "1": "Clouseau"
                                },
                                {
                                    "0": "Anne",
                                    "1": "Herman van Veen"
                                },
                                {
                                    "0": "Another Day",
                                    "1": "Bertolf"
                                },
                                {
                                    "0": "Another Day",
                                    "1": "Buckshot Lefonque"
                                },
                                {
                                    "0": "Another Day",
                                    "1": "Paul McCartney"
                                },
                                {
                                    "0": "Anyone Who Had A Heart",
                                    "1": "Cilla Black"
                                },
                                {
                                    "0": "Anyone Who Had A Heart",
                                    "1": "Dionne Warwick"
                                },
                                {
                                    "0": "As",
                                    "1": "George Michael & Mary J. Blige"
                                },
                                {
                                    "0": "As",
                                    "1": "Stevie Wonder"
                                },
                                {
                                    "0": "As Tears Go By",
                                    "1": "Marianne Faithfull"
                                },
                                {
                                    "0": "As Tears Go By",
                                    "1": "The Rolling Stones"
                                },
                                {
                                    "0": "Back Home",
                                    "1": "Cuby & the Blizzards"
                                },
                                {
                                    "0": "Back Home",
                                    "1": "Golden Earring"
                                },
                                {
                                    "0": "Bad",
                                    "1": "Michael Jackson"
                                },
                                {
                                    "0": "Bad",
                                    "1": "U2"
                                },
                                {
                                    "0": "Beast Of Burden",
                                    "1": "Bette Midler"
                                },
                                {
                                    "0": "Beast Of Burden",
                                    "1": "The Rolling Stones"
                                },
                                {
                                    "0": "Beautiful day",
                                    "1": "Gare Du Nord"
                                },
                                {
                                    "0": "Beautiful Day",
                                    "1": "U2"
                                },
                                {
                                    "0": "Beautiful People",
                                    "1": "Ed Sheeran ft. Khalid"
                                },
                                {
                                    "0": "Beautiful People",
                                    "1": "Marilyn Manson"
                                },
                                {
                                    "0": "Beautiful People",
                                    "1": "Melanie"
                                },
                                {
                                    "0": "Behind Blue Eyes",
                                    "1": "Limp Bizkit"
                                },
                                {
                                    "0": "Behind Blue Eyes",
                                    "1": "The Who"
                                },
                                {
                                    "0": "Big Yellow Taxi",
                                    "1": "Joni Mitchell"
                                },
                                {
                                    "0": "Big Yellow Taxi",
                                    "1": "Vanessa Carlton & Counting Crows"
                                },
                                {
                                    "0": "Birds",
                                    "1": "Anouk"
                                },
                                {
                                    "0": "Birds",
                                    "1": "Chef'Special"
                                },
                                {
                                    "0": "Black Magic Woman",
                                    "1": "Fleetwood Mac"
                                },
                                {
                                    "0": "Black Magic Woman",
                                    "1": "Santana"
                                },
                                {
                                    "0": "Blue Monday",
                                    "1": "Fats Domino"
                                },
                                {
                                    "0": "Blue Monday",
                                    "1": "New Order"
                                },
                                {
                                    "0": "Both Sides Now",
                                    "1": "Euson"
                                },
                                {
                                    "0": "Both Sides Now",
                                    "1": "Joni Mitchell"
                                },
                                {
                                    "0": "Breakaway",
                                    "1": "Kelly Clarkson"
                                },
                                {
                                    "0": "Breakaway",
                                    "1": "Tracey Ullman"
                                },
                                {
                                    "0": "Burning Heart",
                                    "1": "Survivor"
                                },
                                {
                                    "0": "Burning Heart",
                                    "1": "Vandenberg"
                                },
                                {
                                    "0": "Butterfly",
                                    "1": "Danyel Gérard"
                                },
                                {
                                    "0": "Butterfly",
                                    "1": "Jason Mraz"
                                },
                                {
                                    "0": "Can't Help Falling In Love",
                                    "1": "Elvis Presley"
                                },
                                {
                                    "0": "Can't Help Falling In Love",
                                    "1": "UB40"
                                },
                                {
                                    "0": "Candy",
                                    "1": "Iggy Pop & Kate Pierson"
                                },
                                {
                                    "0": "Candy",
                                    "1": "Robbie Williams"
                                },
                                {
                                    "0": "Changes",
                                    "1": "2Pac"
                                },
                                {
                                    "0": "Changes",
                                    "1": "David Bowie"
                                },
                                {
                                    "0": "Cocaine",
                                    "1": "Eric Clapton"
                                },
                                {
                                    "0": "Cocaine",
                                    "1": "J.J. Cale"
                                },
                                {
                                    "0": "Crazy",
                                    "1": "Aerosmith"
                                },
                                {
                                    "0": "Crazy",
                                    "1": "Gnarls Barkley"
                                },
                                {
                                    "0": "Crazy",
                                    "1": "Icehouse"
                                },
                                {
                                    "0": "Crazy",
                                    "1": "Patsy Cline"
                                },
                                {
                                    "0": "Crazy",
                                    "1": "Seal"
                                },
                                {
                                    "0": "Daydream",
                                    "1": "Lovin' Spoonful"
                                },
                                {
                                    "0": "Daydream",
                                    "1": "Wallace Collection"
                                },
                                {
                                    "0": "Diamonds",
                                    "1": "Rihanna"
                                },
                                {
                                    "0": "Diamonds",
                                    "1": "The Boxer Rebellion"
                                },
                                {
                                    "0": "Do It Again",
                                    "1": "Steely Dan"
                                },
                                {
                                    "0": "Do It Again",
                                    "1": "The Beach Boys"
                                },
                                {
                                    "0": "Do You Love Me",
                                    "1": "Contours"
                                },
                                {
                                    "0": "Do You Love Me",
                                    "1": "Sharif Dean"
                                },
                                {
                                    "0": "Domino",
                                    "1": "Clouseau"
                                },
                                {
                                    "0": "Domino",
                                    "1": "Jessie J"
                                },
                                {
                                    "0": "Don't Bring Me Down",
                                    "1": "Electric Light Orchestra"
                                },
                                {
                                    "0": "Don't Bring Me Down",
                                    "1": "Pretty Things"
                                },
                                {
                                    "0": "Don't Leave Me This Way",
                                    "1": "Harold Melvin & The Blue Notes"
                                },
                                {
                                    "0": "Don't Leave Me This Way",
                                    "1": "The Communards & Sarah Jane Morris"
                                },
                                {
                                    "0": "Don't Leave Me This Way",
                                    "1": "Thelma Houston"
                                },
                                {
                                    "0": "Don't Let Me Be Misunderstood",
                                    "1": "Nina Simone"
                                },
                                {
                                    "0": "Don't Let Me Be Misunderstood",
                                    "1": "Santa Esmeralda"
                                },
                                {
                                    "0": "Don't Let The Sun Go Down On Me",
                                    "1": "Elton John"
                                },
                                {
                                    "0": "Don't Let The Sun Go Down On Me",
                                    "1": "George Michael & Elton John"
                                },
                                {
                                    "0": "Don't You Worry 'Bout A Thing",
                                    "1": "Incognito"
                                },
                                {
                                    "0": "Don't You Worry 'Bout A Thing",
                                    "1": "Stevie Wonder"
                                },
                                {
                                    "0": "Donna",
                                    "1": "10cc"
                                },
                                {
                                    "0": "Donna",
                                    "1": "Ritchie Valens"
                                },
                                {
                                    "0": "Drive",
                                    "1": "Cars"
                                },
                                {
                                    "0": "Drive",
                                    "1": "R.E.M."
                                },
                                {
                                    "0": "Everlasting Love",
                                    "1": "Jamie Cullum"
                                },
                                {
                                    "0": "Everlasting Love",
                                    "1": "Love Affair"
                                },
                                {
                                    "0": "Everytime I Think Of You",
                                    "1": "Marco Borsato & Lucie Silvas"
                                },
                                {
                                    "0": "Everytime I Think Of You",
                                    "1": "The Babys"
                                },
                                {
                                    "0": "Fame",
                                    "1": "David Bowie"
                                },
                                {
                                    "0": "Fame",
                                    "1": "Irene Cara"
                                },
                                {
                                    "0": "Feeling Good",
                                    "1": "Michael Bublé"
                                },
                                {
                                    "0": "Feeling Good",
                                    "1": "Muse"
                                },
                                {
                                    "0": "Feeling Good",
                                    "1": "Nina Simone"
                                },
                                {
                                    "0": "Fields Of Gold",
                                    "1": "Eva Cassidy"
                                },
                                {
                                    "0": "Fields Of Gold",
                                    "1": "Sting"
                                },
                                {
                                    "0": "Fire",
                                    "1": "Arthur Brown"
                                },
                                {
                                    "0": "Fire",
                                    "1": "The Pointer Sisters"
                                },
                                {
                                    "0": "Forever And Ever",
                                    "1": "Demis Roussos"
                                },
                                {
                                    "0": "Forever And Ever",
                                    "1": "Slik"
                                },
                                {
                                    "0": "Freedom",
                                    "1": "Mac & Katie Kissoon"
                                },
                                {
                                    "0": "Freedom",
                                    "1": "Racoon"
                                },
                                {
                                    "0": "Freedom",
                                    "1": "Wham!"
                                },
                                {
                                    "0": "Geef Mij Je Angst",
                                    "1": "André Hazes"
                                },
                                {
                                    "0": "Geef Mij Je Angst",
                                    "1": "Guus Meeuwis"
                                },
                                {
                                    "0": "Girl",
                                    "1": "Anouk"
                                },
                                {
                                    "0": "Girl",
                                    "1": "The Beatles"
                                },
                                {
                                    "0": "Give Me Love",
                                    "1": "Ed Sheeran"
                                },
                                {
                                    "0": "Give Me Love",
                                    "1": "George Harrison"
                                },
                                {
                                    "0": "Gloria",
                                    "1": "Them"
                                },
                                {
                                    "0": "Gloria",
                                    "1": "Umberto Tozzi"
                                },
                                {
                                    "0": "Gold",
                                    "1": "Prince"
                                },
                                {
                                    "0": "Gold",
                                    "1": "Spandau Ballet"
                                },
                                {
                                    "0": "Hallelujah",
                                    "1": "Jeff Buckley"
                                },
                                {
                                    "0": "Hallelujah",
                                    "1": "Leonard Cohen"
                                },
                                {
                                    "0": "Hallelujah",
                                    "1": "Lisa Lois"
                                },
                                {
                                    "0": "Hallelujah",
                                    "1": "Milk & Honey"
                                },
                                {
                                    "0": "Happiness",
                                    "1": "Alexis Jordan"
                                },
                                {
                                    "0": "Happiness",
                                    "1": "Jonathan Jeremiah"
                                },
                                {
                                    "0": "Hard To Handle",
                                    "1": "Otis Redding"
                                },
                                {
                                    "0": "Hard To Handle",
                                    "1": "The Black Crowes"
                                },
                                {
                                    "0": "He'll Have To Go",
                                    "1": "Jim Reeves"
                                },
                                {
                                    "0": "He'll Have To Go",
                                    "1": "Ry Cooder"
                                },
                                {
                                    "0": "Heaven",
                                    "1": "Avicii ft. Chris Martin"
                                },
                                {
                                    "0": "Heaven",
                                    "1": "Bryan Adams"
                                },
                                {
                                    "0": "Heaven",
                                    "1": "Do"
                                },
                                {
                                    "0": "Hello",
                                    "1": "Adele"
                                },
                                {
                                    "0": "Hello",
                                    "1": "Lionel Richie"
                                },
                                {
                                    "0": "Hero",
                                    "1": "Enrique Iglesias"
                                },
                                {
                                    "0": "Hero",
                                    "1": "Family Of The Year"
                                },
                                {
                                    "0": "Hero",
                                    "1": "Mariah Carey"
                                },
                                {
                                    "0": "High Hopes",
                                    "1": "Panic! At The Disco"
                                },
                                {
                                    "0": "High Hopes",
                                    "1": "Pink Floyd"
                                },
                                {
                                    "0": "Hit The Road Jack",
                                    "1": "Ray Charles"
                                },
                                {
                                    "0": "Hit The Road Jack",
                                    "1": "Stampeders"
                                },
                                {
                                    "0": "Hold Me",
                                    "1": "Anouk & Douwe Bob"
                                },
                                {
                                    "0": "Hold Me",
                                    "1": "Teskey Brothers"
                                },
                                {
                                    "0": "Hold Me Now",
                                    "1": "Golden Earring"
                                },
                                {
                                    "0": "Hold Me Now",
                                    "1": "Johnny Logan"
                                },
                                {
                                    "0": "Holiday",
                                    "1": "Bee Gees"
                                },
                                {
                                    "0": "Holiday",
                                    "1": "Green Day"
                                },
                                {
                                    "0": "Holiday",
                                    "1": "Madonna"
                                },
                                {
                                    "0": "Home",
                                    "1": "Dotan"
                                },
                                {
                                    "0": "Home",
                                    "1": "Edward Sharpe & The Magnetic Zeros"
                                },
                                {
                                    "0": "Home",
                                    "1": "Michael Bublé"
                                },
                                {
                                    "0": "Home",
                                    "1": "Simply Red"
                                },
                                {
                                    "0": "Home Again",
                                    "1": "Kensington"
                                },
                                {
                                    "0": "Home Again",
                                    "1": "Michael Kiwanuka"
                                },
                                {
                                    "0": "How Long",
                                    "1": "Ace"
                                },
                                {
                                    "0": "How Long",
                                    "1": "Eagles"
                                },
                                {
                                    "0": "Human",
                                    "1": "Rag'n'Bone Man"
                                },
                                {
                                    "0": "Human",
                                    "1": "The Killers"
                                },
                                {
                                    "0": "Hurricane",
                                    "1": "Bob Dylan"
                                },
                                {
                                    "0": "Hurricane",
                                    "1": "Ilse DeLange"
                                },
                                {
                                    "0": "Hurt",
                                    "1": "Bobby Vinton"
                                },
                                {
                                    "0": "Hurt",
                                    "1": "Christina Aguilera"
                                },
                                {
                                    "0": "Hurt",
                                    "1": "Johnny Cash"
                                },
                                {
                                    "0": "Hurt",
                                    "1": "Timi Yuro"
                                },
                                {
                                    "0": "I Can't Make You Love Me",
                                    "1": "Bonnie Raitt"
                                },
                                {
                                    "0": "I Can't Make You Love Me",
                                    "1": "George Michael"
                                },
                                {
                                    "0": "I Got You Babe",
                                    "1": "Sonny & Cher"
                                },
                                {
                                    "0": "I Got You Babe",
                                    "1": "UB40 & Chrissie Hynde"
                                },
                                {
                                    "0": "I Heard It Through The Grapevine",
                                    "1": "Creedence Clearwater Revival"
                                },
                                {
                                    "0": "I Heard It Through The Grapevine",
                                    "1": "Marvin Gaye"
                                },
                                {
                                    "0": "I Put A Spell On You",
                                    "1": "Alan Price Set"
                                },
                                {
                                    "0": "I Put A Spell On You",
                                    "1": "Creedence Clearwater Revival"
                                },
                                {
                                    "0": "I Want You",
                                    "1": "Bob Dylan"
                                },
                                {
                                    "0": "I Want You",
                                    "1": "Elvis Costello"
                                },
                                {
                                    "0": "I Want You Back",
                                    "1": "Jackson 5"
                                },
                                {
                                    "0": "I Want You Back",
                                    "1": "The Jackson 5"
                                },
                                {
                                    "0": "I Will Always Love You",
                                    "1": "Dolly Parton"
                                },
                                {
                                    "0": "I Will Always Love You",
                                    "1": "Whitney Houston"
                                },
                                {
                                    "0": "I'd Rather Go Blind",
                                    "1": "Chicken Shack"
                                },
                                {
                                    "0": "I'd Rather Go Blind",
                                    "1": "Etta James"
                                },
                                {
                                    "0": "I'm A Believer",
                                    "1": "Neil Diamond"
                                },
                                {
                                    "0": "I'm A Believer",
                                    "1": "The Monkees"
                                },
                                {
                                    "0": "I'm On Fire",
                                    "1": "5000 Volts"
                                },
                                {
                                    "0": "I'm On Fire",
                                    "1": "Bruce Springsteen"
                                },
                                {
                                    "0": "If You Could Read My Mind",
                                    "1": "Gordon Lightfoot"
                                },
                                {
                                    "0": "If You Could Read My Mind",
                                    "1": "Viola Wills"
                                },
                                {
                                    "0": "Is This Love",
                                    "1": "Bob Marley & The Wailers"
                                },
                                {
                                    "0": "Is This Love",
                                    "1": "Whitesnake"
                                },
                                {
                                    "0": "It Takes Two",
                                    "1": "Marvin Gaye & Kim Weston"
                                },
                                {
                                    "0": "It Takes Two",
                                    "1": "Rod Stewart & Tina Turner"
                                },
                                {
                                    "0": "It's My Life",
                                    "1": "Animals"
                                },
                                {
                                    "0": "It's My Life",
                                    "1": "Bon Jovi"
                                },
                                {
                                    "0": "It's My Life",
                                    "1": "Talk Talk"
                                },
                                {
                                    "0": "It's Over",
                                    "1": "Level 42"
                                },
                                {
                                    "0": "It's Over",
                                    "1": "Roy Orbison"
                                },
                                {
                                    "0": "Jealous Guy",
                                    "1": "John Lennon"
                                },
                                {
                                    "0": "Jealous Guy",
                                    "1": "Roxy Music"
                                },
                                {
                                    "0": "Just An Illusion",
                                    "1": "BZN"
                                },
                                {
                                    "0": "Just An Illusion",
                                    "1": "Imagination"
                                },
                                {
                                    "0": "Just The Way You Are",
                                    "1": "Billy Joel"
                                },
                                {
                                    "0": "Just The Way You Are",
                                    "1": "Bruno Mars"
                                },
                                {
                                    "0": "Keep Your Head Up",
                                    "1": "Ben Howard"
                                },
                                {
                                    "0": "Keep Your Head Up",
                                    "1": "Sandra van Nieuwland"
                                },
                                {
                                    "0": "Kiss",
                                    "1": "Prince"
                                },
                                {
                                    "0": "Kiss",
                                    "1": "Tom Jones & Art Of Noise"
                                },
                                {
                                    "0": "Knock On Wood",
                                    "1": "Amii Stewart"
                                },
                                {
                                    "0": "Knock On Wood",
                                    "1": "Eddie Floyd"
                                },
                                {
                                    "0": "Knockin' On Heaven's Door",
                                    "1": "Bob Dylan"
                                },
                                {
                                    "0": "Knockin' On Heaven's Door",
                                    "1": "Eric Clapton"
                                },
                                {
                                    "0": "Knockin' On Heaven's Door",
                                    "1": "Guns N' Roses"
                                },
                                {
                                    "0": "La Bamba",
                                    "1": "Los Lobos"
                                },
                                {
                                    "0": "La Bamba",
                                    "1": "Ritchie Valens"
                                },
                                {
                                    "0": "La Bamba",
                                    "1": "Trini Lopez"
                                },
                                {
                                    "0": "La Mamma",
                                    "1": "Charles Aznavour"
                                },
                                {
                                    "0": "La Mamma",
                                    "1": "Corry Brokken"
                                },
                                {
                                    "0": "Let's Dance",
                                    "1": "Chris Montez"
                                },
                                {
                                    "0": "Let's Dance",
                                    "1": "David Bowie"
                                },
                                {
                                    "0": "Let's Dance",
                                    "1": "The Cats"
                                },
                                {
                                    "0": "Let's Dance",
                                    "1": "Wally Tax"
                                },
                                {
                                    "0": "Let's Stay Together",
                                    "1": "Al Green"
                                },
                                {
                                    "0": "Let's Stay Together",
                                    "1": "Tina Turner"
                                },
                                {
                                    "0": "Little Sister",
                                    "1": "Elvis Presley"
                                },
                                {
                                    "0": "Little Sister",
                                    "1": "Ry Cooder"
                                },
                                {
                                    "0": "Live And Let Die",
                                    "1": "Guns N' Roses"
                                },
                                {
                                    "0": "Live And Let Die",
                                    "1": "Paul McCartney & Wings"
                                },
                                {
                                    "0": "Lonely Boy",
                                    "1": "Andrew Gold"
                                },
                                {
                                    "0": "Lonely Boy",
                                    "1": "Paul Anka"
                                },
                                {
                                    "0": "Lonely Boy",
                                    "1": "The Black Keys"
                                },
                                {
                                    "0": "Long Tall Sally",
                                    "1": "Little Richard"
                                },
                                {
                                    "0": "Long Tall Sally",
                                    "1": "The Beatles"
                                },
                                {
                                    "0": "Lost",
                                    "1": "Anouk"
                                },
                                {
                                    "0": "Lost",
                                    "1": "Coldplay"
                                },
                                {
                                    "0": "Lost",
                                    "1": "Jonathan Jeremiah"
                                },
                                {
                                    "0": "Lost",
                                    "1": "Michael Bublé"
                                },
                                {
                                    "0": "MacArthur Park",
                                    "1": "Donna Summer"
                                },
                                {
                                    "0": "MacArthur Park",
                                    "1": "Richard Harris"
                                },
                                {
                                    "0": "Mad World",
                                    "1": "Michael Andrews ft. Gary Jules"
                                },
                                {
                                    "0": "Mad World",
                                    "1": "Tears For Fears"
                                },
                                {
                                    "0": "Magic",
                                    "1": "Coldplay"
                                },
                                {
                                    "0": "Magic",
                                    "1": "Pilot"
                                },
                                {
                                    "0": "Mama",
                                    "1": "Genesis"
                                },
                                {
                                    "0": "Mama",
                                    "1": "Spice Girls"
                                },
                                {
                                    "0": "Many Rivers To Cross",
                                    "1": "Joe Cocker"
                                },
                                {
                                    "0": "Many Rivers To Cross",
                                    "1": "Marcia Hines"
                                },
                                {
                                    "0": "Memories",
                                    "1": "Earth & Fire"
                                },
                                {
                                    "0": "Memories",
                                    "1": "Maroon 5"
                                },
                                {
                                    "0": "Mercy",
                                    "1": "Duffy"
                                },
                                {
                                    "0": "Mercy",
                                    "1": "Muse"
                                },
                                {
                                    "0": "Mercy",
                                    "1": "Shawn Mendes"
                                },
                                {
                                    "0": "Mexico",
                                    "1": "Bob Moore"
                                },
                                {
                                    "0": "Mexico",
                                    "1": "Les Humphries Singers"
                                },
                                {
                                    "0": "Mexico",
                                    "1": "Zangeres Zonder Naam"
                                },
                                {
                                    "0": "More Than A Woman",
                                    "1": "Bee Gees"
                                },
                                {
                                    "0": "More Than A Woman",
                                    "1": "Tavares"
                                },
                                {
                                    "0": "Mr. Bojangles",
                                    "1": "Robbie Williams"
                                },
                                {
                                    "0": "Mr. Bojangles",
                                    "1": "Sammy Davis Jr."
                                },
                                {
                                    "0": "Mr. Bojangles",
                                    "1": "The Nitty Gritty Dirt Band"
                                },
                                {
                                    "0": "My Love",
                                    "1": "Kovacs"
                                },
                                {
                                    "0": "My Love",
                                    "1": "Paul McCartney & Wings"
                                },
                                {
                                    "0": "My Way",
                                    "1": "Frank Sinatra"
                                },
                                {
                                    "0": "My Way",
                                    "1": "Sid Vicious"
                                },
                                {
                                    "0": "Needles And Pins",
                                    "1": "Smokie"
                                },
                                {
                                    "0": "Needles And Pins",
                                    "1": "The Searchers"
                                },
                                {
                                    "0": "Next To Me",
                                    "1": "Emeli Sandé"
                                },
                                {
                                    "0": "Next To Me",
                                    "1": "Ilse DeLange"
                                },
                                {
                                    "0": "No Surrender",
                                    "1": "Bruce Springsteen"
                                },
                                {
                                    "0": "No Surrender",
                                    "1": "Kane"
                                },
                                {
                                    "0": "One",
                                    "1": "Johnny Cash"
                                },
                                {
                                    "0": "One",
                                    "1": "Mary J Blige & U2"
                                },
                                {
                                    "0": "One",
                                    "1": "Metallica"
                                },
                                {
                                    "0": "One",
                                    "1": "U2"
                                },
                                {
                                    "0": "One Way Ticket",
                                    "1": "Eruption"
                                },
                                {
                                    "0": "One Way Ticket",
                                    "1": "Neil Sedaka"
                                },
                                {
                                    "0": "Only You",
                                    "1": "Platters"
                                },
                                {
                                    "0": "Only You",
                                    "1": "The Flying Pickets"
                                },
                                {
                                    "0": "Our House",
                                    "1": "Crosby, Stills, Nash & Young"
                                },
                                {
                                    "0": "Our House",
                                    "1": "Madness"
                                },
                                {
                                    "0": "Patience",
                                    "1": "Guns N' Roses"
                                },
                                {
                                    "0": "Patience",
                                    "1": "Take That"
                                },
                                {
                                    "0": "Perfect",
                                    "1": "Ed Sheeran"
                                },
                                {
                                    "0": "Perfect",
                                    "1": "Fairground Attraction"
                                },
                                {
                                    "0": "Photograph",
                                    "1": "Ed Sheeran"
                                },
                                {
                                    "0": "Photograph",
                                    "1": "Ringo Starr"
                                },
                                {
                                    "0": "Pied Piper",
                                    "1": "Crispian St. Peters"
                                },
                                {
                                    "0": "Pied Piper",
                                    "1": "Jets"
                                },
                                {
                                    "0": "Proud Mary",
                                    "1": "Creedence Clearwater Revival"
                                },
                                {
                                    "0": "Proud Mary",
                                    "1": "Ike & Tina Turner"
                                },
                                {
                                    "0": "Radio",
                                    "1": "Corrs"
                                },
                                {
                                    "0": "Radio",
                                    "1": "Dolly Dots"
                                },
                                {
                                    "0": "Radio",
                                    "1": "Supersister"
                                },
                                {
                                    "0": "Reach Out I'll Be There",
                                    "1": "Four Tops"
                                },
                                {
                                    "0": "Reach Out I'll Be There",
                                    "1": "Gloria Gaynor"
                                },
                                {
                                    "0": "Ring Of Fire",
                                    "1": "Animals & Eric Burdon"
                                },
                                {
                                    "0": "Ring Of Fire",
                                    "1": "Johnny Cash"
                                },
                                {
                                    "0": "Roll Over Beethoven",
                                    "1": "Chuck Berry"
                                },
                                {
                                    "0": "Roll Over Beethoven",
                                    "1": "Electric Light Orchestra"
                                },
                                {
                                    "0": "Rosie",
                                    "1": "Claw Boys Claw"
                                },
                                {
                                    "0": "Rosie",
                                    "1": "Don Partridge"
                                },
                                {
                                    "0": "Rosie",
                                    "1": "Joan Armatrading"
                                },
                                {
                                    "0": "Ruby Tuesday",
                                    "1": "Melanie"
                                },
                                {
                                    "0": "Ruby Tuesday",
                                    "1": "The Rolling Stones"
                                },
                                {
                                    "0": "Run",
                                    "1": "Amy MacDonald"
                                },
                                {
                                    "0": "Run",
                                    "1": "Snow Patrol"
                                },
                                {
                                    "0": "Sacrifice",
                                    "1": "Anouk"
                                },
                                {
                                    "0": "Sacrifice",
                                    "1": "Elton John"
                                },
                                {
                                    "0": "Sailing",
                                    "1": "Christopher Cross"
                                },
                                {
                                    "0": "Sailing",
                                    "1": "Rod Stewart"
                                },
                                {
                                    "0": "Saturday Night",
                                    "1": "Bay City Rollers"
                                },
                                {
                                    "0": "Saturday Night",
                                    "1": "Herman Brood & His Wild Romance"
                                },
                                {
                                    "0": "Save A Prayer",
                                    "1": "Duran Duran"
                                },
                                {
                                    "0": "Save A Prayer",
                                    "1": "Eagles Of Death Metal"
                                },
                                {
                                    "0": "Save Me",
                                    "1": "Anouk"
                                },
                                {
                                    "0": "Save Me",
                                    "1": "Queen"
                                },
                                {
                                    "0": "Sealed With A Kiss",
                                    "1": "Bobby Vinton"
                                },
                                {
                                    "0": "Sealed With A Kiss",
                                    "1": "Brian Hyland"
                                },
                                {
                                    "0": "She",
                                    "1": "Charles Aznavour"
                                },
                                {
                                    "0": "She",
                                    "1": "Elvis Costello"
                                },
                                {
                                    "0": "Shout",
                                    "1": "Tears For Fears"
                                },
                                {
                                    "0": "Shout",
                                    "1": "The Trammps"
                                },
                                {
                                    "0": "Singing In The Rain",
                                    "1": "Gene Kelly"
                                },
                                {
                                    "0": "Singing In The Rain",
                                    "1": "Sheila & Black Devotion"
                                },
                                {
                                    "0": "Smoke Gets In Your Eyes",
                                    "1": "Blue Haze"
                                },
                                {
                                    "0": "Smoke Gets In Your Eyes",
                                    "1": "Platters"
                                },
                                {
                                    "0": "Somebody To Love",
                                    "1": "Jefferson Airplane"
                                },
                                {
                                    "0": "Somebody To Love",
                                    "1": "Queen"
                                },
                                {
                                    "0": "Something",
                                    "1": "Shirley Bassey"
                                },
                                {
                                    "0": "Something",
                                    "1": "The Beatles"
                                },
                                {
                                    "0": "Songbird",
                                    "1": "Eva Cassidy"
                                },
                                {
                                    "0": "Songbird",
                                    "1": "Fleetwood Mac"
                                },
                                {
                                    "0": "Sorry",
                                    "1": "Justin Bieber"
                                },
                                {
                                    "0": "Sorry",
                                    "1": "Kensington"
                                },
                                {
                                    "0": "Sorry",
                                    "1": "Kyteman"
                                },
                                {
                                    "0": "Sorry",
                                    "1": "Nothing But Thieves"
                                },
                                {
                                    "0": "Stay",
                                    "1": "Rihanna ft. Mikky Ekko"
                                },
                                {
                                    "0": "Stay",
                                    "1": "Simply Red"
                                },
                                {
                                    "0": "Stay With Me",
                                    "1": "Faces"
                                },
                                {
                                    "0": "Stay With Me",
                                    "1": "Sam Smith"
                                },
                                {
                                    "0": "Substitute",
                                    "1": "Clout"
                                },
                                {
                                    "0": "Substitute",
                                    "1": "The Who"
                                },
                                {
                                    "0": "Summer In The City",
                                    "1": "Joe Cocker"
                                },
                                {
                                    "0": "Summer In The City",
                                    "1": "Lovin' Spoonful"
                                },
                                {
                                    "0": "Summer Nights",
                                    "1": "John Travolta & Olivia Newton-John"
                                },
                                {
                                    "0": "Summer Nights",
                                    "1": "Marianne Faithfull"
                                },
                                {
                                    "0": "Summertime",
                                    "1": "Billie Holiday"
                                },
                                {
                                    "0": "Summertime",
                                    "1": "Billy Stewart"
                                },
                                {
                                    "0": "Summertime",
                                    "1": "Brainbox"
                                },
                                {
                                    "0": "Summertime",
                                    "1": "Ella Fitzgerald & Louis Armstrong"
                                },
                                {
                                    "0": "Sunrise",
                                    "1": "Norah Jones"
                                },
                                {
                                    "0": "Sunrise",
                                    "1": "Simply Red"
                                },
                                {
                                    "0": "Suzanne",
                                    "1": "Herman van Veen"
                                },
                                {
                                    "0": "Suzanne",
                                    "1": "Leonard Cohen"
                                },
                                {
                                    "0": "Suzanne",
                                    "1": "VOF de Kunst"
                                },
                                {
                                    "0": "Sweet Jane",
                                    "1": "Lou Reed"
                                },
                                {
                                    "0": "Sweet Jane",
                                    "1": "Velvet Underground"
                                },
                                {
                                    "0": "The Letter",
                                    "1": "Box Tops"
                                },
                                {
                                    "0": "The Letter",
                                    "1": "Joe Cocker"
                                },
                                {
                                    "0": "The Look Of Love",
                                    "1": "ABC"
                                },
                                {
                                    "0": "The Look Of Love",
                                    "1": "Dusty Springfield"
                                },
                                {
                                    "0": "The Man Who Sold The World",
                                    "1": "David Bowie"
                                },
                                {
                                    "0": "The Man Who Sold The World",
                                    "1": "Lulu"
                                },
                                {
                                    "0": "The Power Of Love",
                                    "1": "Céline Dion"
                                },
                                {
                                    "0": "The Power Of Love",
                                    "1": "Frankie Goes To Hollywood"
                                },
                                {
                                    "0": "The Power Of Love",
                                    "1": "Huey Lewis & the News"
                                },
                                {
                                    "0": "The Power Of Love",
                                    "1": "Jennifer Rush"
                                },
                                {
                                    "0": "The Pretender",
                                    "1": "Foo Fighters"
                                },
                                {
                                    "0": "The Pretender",
                                    "1": "Jackson Browne"
                                },
                                {
                                    "0": "The Sound Of Silence",
                                    "1": "Disturbed"
                                },
                                {
                                    "0": "The Sound Of Silence",
                                    "1": "Simon & Garfunkel"
                                },
                                {
                                    "0": "The Weight",
                                    "1": "Danny Vera"
                                },
                                {
                                    "0": "The Weight",
                                    "1": "The Band"
                                },
                                {
                                    "0": "The Windmills Of Your Mind",
                                    "1": "Jose Feliciano"
                                },
                                {
                                    "0": "The Windmills Of Your Mind",
                                    "1": "Noel Harrison"
                                },
                                {
                                    "0": "Upside Down",
                                    "1": "Diana Ross"
                                },
                                {
                                    "0": "Upside Down",
                                    "1": "Jack Johnson"
                                },
                                {
                                    "0": "Use Somebody",
                                    "1": "Kings Of Leon"
                                },
                                {
                                    "0": "Use Somebody",
                                    "1": "Laura Jansen"
                                },
                                {
                                    "0": "Venus",
                                    "1": "Bananarama"
                                },
                                {
                                    "0": "Venus",
                                    "1": "Shocking Blue"
                                },
                                {
                                    "0": "Voorbij",
                                    "1": "Marco Borsato & Do"
                                },
                                {
                                    "0": "Voorbij",
                                    "1": "Paul de Leeuw"
                                },
                                {
                                    "0": "War",
                                    "1": "Bruce Springsteen"
                                },
                                {
                                    "0": "War",
                                    "1": "Kensington"
                                },
                                {
                                    "0": "Wat Zou Je Doen",
                                    "1": "Bløf"
                                },
                                {
                                    "0": "Wat Zou Je Doen",
                                    "1": "Marco Borsato & Ali B"
                                },
                                {
                                    "0": "What Becomes Of The Broken Hearted",
                                    "1": "Colin Blunstone & Dave Stewart"
                                },
                                {
                                    "0": "What Becomes Of The Broken Hearted",
                                    "1": "Jimmy Ruffin"
                                },
                                {
                                    "0": "Wheels",
                                    "1": "Billy Vaughn"
                                },
                                {
                                    "0": "Wheels",
                                    "1": "Foo Fighters"
                                },
                                {
                                    "0": "Wheels",
                                    "1": "Jumping Jewels"
                                },
                                {
                                    "0": "When You're Gone",
                                    "1": "Bryan Adams & Melanie C"
                                },
                                {
                                    "0": "When You're Gone",
                                    "1": "Maggie MacNeal"
                                },
                                {
                                    "0": "Why",
                                    "1": "Annie Lennox"
                                },
                                {
                                    "0": "Why",
                                    "1": "The Cats"
                                },
                                {
                                    "0": "Wild Horses",
                                    "1": "Gino Vannelli"
                                },
                                {
                                    "0": "Wild Horses",
                                    "1": "The Rolling Stones"
                                },
                                {
                                    "0": "Wit Licht",
                                    "1": "Jeroen van Koningsbrugge"
                                },
                                {
                                    "0": "Wit Licht",
                                    "1": "Marco Borsato"
                                },
                                {
                                    "0": "Without You",
                                    "1": "Harry Nilsson"
                                },
                                {
                                    "0": "Without You",
                                    "1": "Mariah Carey"
                                },
                                {
                                    "0": "Woman",
                                    "1": "Anouk"
                                },
                                {
                                    "0": "Woman",
                                    "1": "John Lennon"
                                },
                                {
                                    "0": "Woman",
                                    "1": "Wolfmother"
                                },
                                {
                                    "0": "Wonderful World",
                                    "1": "James Morrison"
                                },
                                {
                                    "0": "Wonderful World",
                                    "1": "Sam Cooke"
                                },
                                {
                                    "0": "Words",
                                    "1": "Bee Gees"
                                },
                                {
                                    "0": "Words",
                                    "1": "Christians"
                                },
                                {
                                    "0": "Words",
                                    "1": "F.R. David"
                                },
                                {
                                    "0": "You Can't Hurry Love",
                                    "1": "Phil Collins"
                                },
                                {
                                    "0": "You Can't Hurry Love",
                                    "1": "The Supremes"
                                },
                                {
                                    "0": "You Really Got Me",
                                    "1": "The Kinks"
                                },
                                {
                                    "0": "You Really Got Me",
                                    "1": "Van Halen"
                                },
                                {
                                    "0": "You'll Never Walk Alone",
                                    "1": "Gerry & The Pacemakers"
                                },
                                {
                                    "0": "You'll Never Walk Alone",
                                    "1": "Lee Towers"
                                },
                                {
                                    "0": "You've Got A Friend",
                                    "1": "Carole King"
                                },
                                {
                                    "0": "You've Got A Friend",
                                    "1": "James Taylor"
                                }
                            ]
                        },
                        "text/html": [
                            "<table>",
                            "<tr><th>title</th><th>artist</th></tr>",
                            "<tr><td>Afscheid</td><td>Glennis Grace</td></tr>",
                            "<tr><td>Afscheid</td><td>Volumia!</td></tr>",
                            "<tr><td>After Midnight</td><td>Eric Clapton</td></tr>",
                            "<tr><td>After Midnight</td><td>J.J. Cale</td></tr>",
                            "<tr><td>Ain't No Mountain High Enough</td><td>Diana Ross</td></tr>",
                            "<tr><td>Ain't No Mountain High Enough</td><td>Marvin Gaye &amp; Tammi Terrell</td></tr>",
                            "<tr><td>Alive</td><td>Meat Loaf</td></tr>",
                            "<tr><td>Alive</td><td>Pearl Jam</td></tr>",
                            "<tr><td>All My Life</td><td>Foo Fighters</td></tr>",
                            "<tr><td>All My Life</td><td>Krezip</td></tr>",
                            "<tr><td>All The Love In The World</td><td>Consortium</td></tr>",
                            "<tr><td>All The Love In The World</td><td>Dionne Warwick</td></tr>",
                            "<tr><td>Always On My Mind</td><td>Elvis Presley</td></tr>",
                            "<tr><td>Always On My Mind</td><td>Pet Shop Boys</td></tr>",
                            "<tr><td>Always On My Mind</td><td>Willie Nelson</td></tr>",
                            "<tr><td>Amsterdam</td><td>Coldplay</td></tr>",
                            "<tr><td>Amsterdam</td><td>Nothing But Thieves</td></tr>",
                            "<tr><td>Anne</td><td>Clouseau</td></tr>",
                            "<tr><td>Anne</td><td>Herman van Veen</td></tr>",
                            "<tr><td>Another Day</td><td>Bertolf</td></tr>",
                            "<tr><td>Another Day</td><td>Buckshot Lefonque</td></tr>",
                            "<tr><td>Another Day</td><td>Paul McCartney</td></tr>",
                            "<tr><td>Anyone Who Had A Heart</td><td>Cilla Black</td></tr>",
                            "<tr><td>Anyone Who Had A Heart</td><td>Dionne Warwick</td></tr>",
                            "<tr><td>As</td><td>George Michael &amp; Mary J. Blige</td></tr>",
                            "<tr><td>As</td><td>Stevie Wonder</td></tr>",
                            "<tr><td>As Tears Go By</td><td>Marianne Faithfull</td></tr>",
                            "<tr><td>As Tears Go By</td><td>The Rolling Stones</td></tr>",
                            "<tr><td>Back Home</td><td>Cuby &amp; the Blizzards</td></tr>",
                            "<tr><td>Back Home</td><td>Golden Earring</td></tr>",
                            "<tr><td>Bad</td><td>Michael Jackson</td></tr>",
                            "<tr><td>Bad</td><td>U2</td></tr>",
                            "<tr><td>Beast Of Burden</td><td>Bette Midler</td></tr>",
                            "<tr><td>Beast Of Burden</td><td>The Rolling Stones</td></tr>",
                            "<tr><td>Beautiful day</td><td>Gare Du Nord</td></tr>",
                            "<tr><td>Beautiful Day</td><td>U2</td></tr>",
                            "<tr><td>Beautiful People</td><td>Ed Sheeran ft. Khalid</td></tr>",
                            "<tr><td>Beautiful People</td><td>Marilyn Manson</td></tr>",
                            "<tr><td>Beautiful People</td><td>Melanie</td></tr>",
                            "<tr><td>Behind Blue Eyes</td><td>Limp Bizkit</td></tr>",
                            "<tr><td>Behind Blue Eyes</td><td>The Who</td></tr>",
                            "<tr><td>Big Yellow Taxi</td><td>Joni Mitchell</td></tr>",
                            "<tr><td>Big Yellow Taxi</td><td>Vanessa Carlton &amp; Counting Crows</td></tr>",
                            "<tr><td>Birds</td><td>Anouk</td></tr>",
                            "<tr><td>Birds</td><td>Chef'Special</td></tr>",
                            "<tr><td>Black Magic Woman</td><td>Fleetwood Mac</td></tr>",
                            "<tr><td>Black Magic Woman</td><td>Santana</td></tr>",
                            "<tr><td>Blue Monday</td><td>Fats Domino</td></tr>",
                            "<tr><td>Blue Monday</td><td>New Order</td></tr>",
                            "<tr><td>Both Sides Now</td><td>Euson</td></tr>",
                            "<tr><td>Both Sides Now</td><td>Joni Mitchell</td></tr>",
                            "<tr><td>Breakaway</td><td>Kelly Clarkson</td></tr>",
                            "<tr><td>Breakaway</td><td>Tracey Ullman</td></tr>",
                            "<tr><td>Burning Heart</td><td>Survivor</td></tr>",
                            "<tr><td>Burning Heart</td><td>Vandenberg</td></tr>",
                            "<tr><td>Butterfly</td><td>Danyel Gérard</td></tr>",
                            "<tr><td>Butterfly</td><td>Jason Mraz</td></tr>",
                            "<tr><td>Can't Help Falling In Love</td><td>Elvis Presley</td></tr>",
                            "<tr><td>Can't Help Falling In Love</td><td>UB40</td></tr>",
                            "<tr><td>Candy</td><td>Iggy Pop &amp; Kate Pierson</td></tr>",
                            "<tr><td>Candy</td><td>Robbie Williams</td></tr>",
                            "<tr><td>Changes</td><td>2Pac</td></tr>",
                            "<tr><td>Changes</td><td>David Bowie</td></tr>",
                            "<tr><td>Cocaine</td><td>Eric Clapton</td></tr>",
                            "<tr><td>Cocaine</td><td>J.J. Cale</td></tr>",
                            "<tr><td>Crazy</td><td>Aerosmith</td></tr>",
                            "<tr><td>Crazy</td><td>Gnarls Barkley</td></tr>",
                            "<tr><td>Crazy</td><td>Icehouse</td></tr>",
                            "<tr><td>Crazy</td><td>Patsy Cline</td></tr>",
                            "<tr><td>Crazy</td><td>Seal</td></tr>",
                            "<tr><td>Daydream</td><td>Lovin' Spoonful</td></tr>",
                            "<tr><td>Daydream</td><td>Wallace Collection</td></tr>",
                            "<tr><td>Diamonds</td><td>Rihanna</td></tr>",
                            "<tr><td>Diamonds</td><td>The Boxer Rebellion</td></tr>",
                            "<tr><td>Do It Again</td><td>Steely Dan</td></tr>",
                            "<tr><td>Do It Again</td><td>The Beach Boys</td></tr>",
                            "<tr><td>Do You Love Me</td><td>Contours</td></tr>",
                            "<tr><td>Do You Love Me</td><td>Sharif Dean</td></tr>",
                            "<tr><td>Domino</td><td>Clouseau</td></tr>",
                            "<tr><td>Domino</td><td>Jessie J</td></tr>",
                            "<tr><td>Don't Bring Me Down</td><td>Electric Light Orchestra</td></tr>",
                            "<tr><td>Don't Bring Me Down</td><td>Pretty Things</td></tr>",
                            "<tr><td>Don't Leave Me This Way</td><td>Harold Melvin &amp; The Blue Notes</td></tr>",
                            "<tr><td>Don't Leave Me This Way</td><td>The Communards &amp; Sarah Jane Morris</td></tr>",
                            "<tr><td>Don't Leave Me This Way</td><td>Thelma Houston</td></tr>",
                            "<tr><td>Don't Let Me Be Misunderstood</td><td>Nina Simone</td></tr>",
                            "<tr><td>Don't Let Me Be Misunderstood</td><td>Santa Esmeralda</td></tr>",
                            "<tr><td>Don't Let The Sun Go Down On Me</td><td>Elton John</td></tr>",
                            "<tr><td>Don't Let The Sun Go Down On Me</td><td>George Michael &amp; Elton John</td></tr>",
                            "<tr><td>Don't You Worry 'Bout A Thing</td><td>Incognito</td></tr>",
                            "<tr><td>Don't You Worry 'Bout A Thing</td><td>Stevie Wonder</td></tr>",
                            "<tr><td>Donna</td><td>10cc</td></tr>",
                            "<tr><td>Donna</td><td>Ritchie Valens</td></tr>",
                            "<tr><td>Drive</td><td>Cars</td></tr>",
                            "<tr><td>Drive</td><td>R.E.M.</td></tr>",
                            "<tr><td>Everlasting Love</td><td>Jamie Cullum</td></tr>",
                            "<tr><td>Everlasting Love</td><td>Love Affair</td></tr>",
                            "<tr><td>Everytime I Think Of You</td><td>Marco Borsato &amp; Lucie Silvas</td></tr>",
                            "<tr><td>Everytime I Think Of You</td><td>The Babys</td></tr>",
                            "<tr><td>Fame</td><td>David Bowie</td></tr>",
                            "<tr><td>Fame</td><td>Irene Cara</td></tr>",
                            "<tr><td>Feeling Good</td><td>Michael Bublé</td></tr>",
                            "<tr><td>Feeling Good</td><td>Muse</td></tr>",
                            "<tr><td>Feeling Good</td><td>Nina Simone</td></tr>",
                            "<tr><td>Fields Of Gold</td><td>Eva Cassidy</td></tr>",
                            "<tr><td>Fields Of Gold</td><td>Sting</td></tr>",
                            "<tr><td>Fire</td><td>Arthur Brown</td></tr>",
                            "<tr><td>Fire</td><td>The Pointer Sisters</td></tr>",
                            "<tr><td>Forever And Ever</td><td>Demis Roussos</td></tr>",
                            "<tr><td>Forever And Ever</td><td>Slik</td></tr>",
                            "<tr><td>Freedom</td><td>Mac &amp; Katie Kissoon</td></tr>",
                            "<tr><td>Freedom</td><td>Racoon</td></tr>",
                            "<tr><td>Freedom</td><td>Wham!</td></tr>",
                            "<tr><td>Geef Mij Je Angst</td><td>André Hazes</td></tr>",
                            "<tr><td>Geef Mij Je Angst</td><td>Guus Meeuwis</td></tr>",
                            "<tr><td>Girl</td><td>Anouk</td></tr>",
                            "<tr><td>Girl</td><td>The Beatles</td></tr>",
                            "<tr><td>Give Me Love</td><td>Ed Sheeran</td></tr>",
                            "<tr><td>Give Me Love</td><td>George Harrison</td></tr>",
                            "<tr><td>Gloria</td><td>Them</td></tr>",
                            "<tr><td>Gloria</td><td>Umberto Tozzi</td></tr>",
                            "<tr><td>Gold</td><td>Prince</td></tr>",
                            "<tr><td>Gold</td><td>Spandau Ballet</td></tr>",
                            "<tr><td>Hallelujah</td><td>Jeff Buckley</td></tr>",
                            "<tr><td>Hallelujah</td><td>Leonard Cohen</td></tr>",
                            "<tr><td>Hallelujah</td><td>Lisa Lois</td></tr>",
                            "<tr><td>Hallelujah</td><td>Milk &amp; Honey</td></tr>",
                            "<tr><td>Happiness</td><td>Alexis Jordan</td></tr>",
                            "<tr><td>Happiness</td><td>Jonathan Jeremiah</td></tr>",
                            "<tr><td>Hard To Handle</td><td>Otis Redding</td></tr>",
                            "<tr><td>Hard To Handle</td><td>The Black Crowes</td></tr>",
                            "<tr><td>He'll Have To Go</td><td>Jim Reeves</td></tr>",
                            "<tr><td>He'll Have To Go</td><td>Ry Cooder</td></tr>",
                            "<tr><td>Heaven</td><td>Avicii ft. Chris Martin</td></tr>",
                            "<tr><td>Heaven</td><td>Bryan Adams</td></tr>",
                            "<tr><td>Heaven</td><td>Do</td></tr>",
                            "<tr><td>Hello</td><td>Adele</td></tr>",
                            "<tr><td>Hello</td><td>Lionel Richie</td></tr>",
                            "<tr><td>Hero</td><td>Enrique Iglesias</td></tr>",
                            "<tr><td>Hero</td><td>Family Of The Year</td></tr>",
                            "<tr><td>Hero</td><td>Mariah Carey</td></tr>",
                            "<tr><td>High Hopes</td><td>Panic! At The Disco</td></tr>",
                            "<tr><td>High Hopes</td><td>Pink Floyd</td></tr>",
                            "<tr><td>Hit The Road Jack</td><td>Ray Charles</td></tr>",
                            "<tr><td>Hit The Road Jack</td><td>Stampeders</td></tr>",
                            "<tr><td>Hold Me</td><td>Anouk &amp; Douwe Bob</td></tr>",
                            "<tr><td>Hold Me</td><td>Teskey Brothers</td></tr>",
                            "<tr><td>Hold Me Now</td><td>Golden Earring</td></tr>",
                            "<tr><td>Hold Me Now</td><td>Johnny Logan</td></tr>",
                            "<tr><td>Holiday</td><td>Bee Gees</td></tr>",
                            "<tr><td>Holiday</td><td>Green Day</td></tr>",
                            "<tr><td>Holiday</td><td>Madonna</td></tr>",
                            "<tr><td>Home</td><td>Dotan</td></tr>",
                            "<tr><td>Home</td><td>Edward Sharpe &amp; The Magnetic Zeros</td></tr>",
                            "<tr><td>Home</td><td>Michael Bublé</td></tr>",
                            "<tr><td>Home</td><td>Simply Red</td></tr>",
                            "<tr><td>Home Again</td><td>Kensington</td></tr>",
                            "<tr><td>Home Again</td><td>Michael Kiwanuka</td></tr>",
                            "<tr><td>How Long</td><td>Ace</td></tr>",
                            "<tr><td>How Long</td><td>Eagles</td></tr>",
                            "<tr><td>Human</td><td>Rag'n'Bone Man</td></tr>",
                            "<tr><td>Human</td><td>The Killers</td></tr>",
                            "<tr><td>Hurricane</td><td>Bob Dylan</td></tr>",
                            "<tr><td>Hurricane</td><td>Ilse DeLange</td></tr>",
                            "<tr><td>Hurt</td><td>Bobby Vinton</td></tr>",
                            "<tr><td>Hurt</td><td>Christina Aguilera</td></tr>",
                            "<tr><td>Hurt</td><td>Johnny Cash</td></tr>",
                            "<tr><td>Hurt</td><td>Timi Yuro</td></tr>",
                            "<tr><td>I Can't Make You Love Me</td><td>Bonnie Raitt</td></tr>",
                            "<tr><td>I Can't Make You Love Me</td><td>George Michael</td></tr>",
                            "<tr><td>I Got You Babe</td><td>Sonny &amp; Cher</td></tr>",
                            "<tr><td>I Got You Babe</td><td>UB40 &amp; Chrissie Hynde</td></tr>",
                            "<tr><td>I Heard It Through The Grapevine</td><td>Creedence Clearwater Revival</td></tr>",
                            "<tr><td>I Heard It Through The Grapevine</td><td>Marvin Gaye</td></tr>",
                            "<tr><td>I Put A Spell On You</td><td>Alan Price Set</td></tr>",
                            "<tr><td>I Put A Spell On You</td><td>Creedence Clearwater Revival</td></tr>",
                            "<tr><td>I Want You</td><td>Bob Dylan</td></tr>",
                            "<tr><td>I Want You</td><td>Elvis Costello</td></tr>",
                            "<tr><td>I Want You Back</td><td>Jackson 5</td></tr>",
                            "<tr><td>I Want You Back</td><td>The Jackson 5</td></tr>",
                            "<tr><td>I Will Always Love You</td><td>Dolly Parton</td></tr>",
                            "<tr><td>I Will Always Love You</td><td>Whitney Houston</td></tr>",
                            "<tr><td>I'd Rather Go Blind</td><td>Chicken Shack</td></tr>",
                            "<tr><td>I'd Rather Go Blind</td><td>Etta James</td></tr>",
                            "<tr><td>I'm A Believer</td><td>Neil Diamond</td></tr>",
                            "<tr><td>I'm A Believer</td><td>The Monkees</td></tr>",
                            "<tr><td>I'm On Fire</td><td>5000 Volts</td></tr>",
                            "<tr><td>I'm On Fire</td><td>Bruce Springsteen</td></tr>",
                            "<tr><td>If You Could Read My Mind</td><td>Gordon Lightfoot</td></tr>",
                            "<tr><td>If You Could Read My Mind</td><td>Viola Wills</td></tr>",
                            "<tr><td>Is This Love</td><td>Bob Marley &amp; The Wailers</td></tr>",
                            "<tr><td>Is This Love</td><td>Whitesnake</td></tr>",
                            "<tr><td>It Takes Two</td><td>Marvin Gaye &amp; Kim Weston</td></tr>",
                            "<tr><td>It Takes Two</td><td>Rod Stewart &amp; Tina Turner</td></tr>",
                            "<tr><td>It's My Life</td><td>Animals</td></tr>",
                            "<tr><td>It's My Life</td><td>Bon Jovi</td></tr>",
                            "<tr><td>It's My Life</td><td>Talk Talk</td></tr>",
                            "<tr><td>It's Over</td><td>Level 42</td></tr>",
                            "<tr><td>It's Over</td><td>Roy Orbison</td></tr>",
                            "<tr><td>Jealous Guy</td><td>John Lennon</td></tr>",
                            "<tr><td>Jealous Guy</td><td>Roxy Music</td></tr>",
                            "<tr><td>Just An Illusion</td><td>BZN</td></tr>",
                            "<tr><td>Just An Illusion</td><td>Imagination</td></tr>",
                            "<tr><td>Just The Way You Are</td><td>Billy Joel</td></tr>",
                            "<tr><td>Just The Way You Are</td><td>Bruno Mars</td></tr>",
                            "<tr><td>Keep Your Head Up</td><td>Ben Howard</td></tr>",
                            "<tr><td>Keep Your Head Up</td><td>Sandra van Nieuwland</td></tr>",
                            "<tr><td>Kiss</td><td>Prince</td></tr>",
                            "<tr><td>Kiss</td><td>Tom Jones &amp; Art Of Noise</td></tr>",
                            "<tr><td>Knock On Wood</td><td>Amii Stewart</td></tr>",
                            "<tr><td>Knock On Wood</td><td>Eddie Floyd</td></tr>",
                            "<tr><td>Knockin' On Heaven's Door</td><td>Bob Dylan</td></tr>",
                            "<tr><td>Knockin' On Heaven's Door</td><td>Eric Clapton</td></tr>",
                            "<tr><td>Knockin' On Heaven's Door</td><td>Guns N' Roses</td></tr>",
                            "<tr><td>La Bamba</td><td>Los Lobos</td></tr>",
                            "<tr><td>La Bamba</td><td>Ritchie Valens</td></tr>",
                            "<tr><td>La Bamba</td><td>Trini Lopez</td></tr>",
                            "<tr><td>La Mamma</td><td>Charles Aznavour</td></tr>",
                            "<tr><td>La Mamma</td><td>Corry Brokken</td></tr>",
                            "<tr><td>Let's Dance</td><td>Chris Montez</td></tr>",
                            "<tr><td>Let's Dance</td><td>David Bowie</td></tr>",
                            "<tr><td>Let's Dance</td><td>The Cats</td></tr>",
                            "<tr><td>Let's Dance</td><td>Wally Tax</td></tr>",
                            "<tr><td>Let's Stay Together</td><td>Al Green</td></tr>",
                            "<tr><td>Let's Stay Together</td><td>Tina Turner</td></tr>",
                            "<tr><td>Little Sister</td><td>Elvis Presley</td></tr>",
                            "<tr><td>Little Sister</td><td>Ry Cooder</td></tr>",
                            "<tr><td>Live And Let Die</td><td>Guns N' Roses</td></tr>",
                            "<tr><td>Live And Let Die</td><td>Paul McCartney &amp; Wings</td></tr>",
                            "<tr><td>Lonely Boy</td><td>Andrew Gold</td></tr>",
                            "<tr><td>Lonely Boy</td><td>Paul Anka</td></tr>",
                            "<tr><td>Lonely Boy</td><td>The Black Keys</td></tr>",
                            "<tr><td>Long Tall Sally</td><td>Little Richard</td></tr>",
                            "<tr><td>Long Tall Sally</td><td>The Beatles</td></tr>",
                            "<tr><td>Lost</td><td>Anouk</td></tr>",
                            "<tr><td>Lost</td><td>Coldplay</td></tr>",
                            "<tr><td>Lost</td><td>Jonathan Jeremiah</td></tr>",
                            "<tr><td>Lost</td><td>Michael Bublé</td></tr>",
                            "<tr><td>MacArthur Park</td><td>Donna Summer</td></tr>",
                            "<tr><td>MacArthur Park</td><td>Richard Harris</td></tr>",
                            "<tr><td>Mad World</td><td>Michael Andrews ft. Gary Jules</td></tr>",
                            "<tr><td>Mad World</td><td>Tears For Fears</td></tr>",
                            "<tr><td>Magic</td><td>Coldplay</td></tr>",
                            "<tr><td>Magic</td><td>Pilot</td></tr>",
                            "<tr><td>Mama</td><td>Genesis</td></tr>",
                            "<tr><td>Mama</td><td>Spice Girls</td></tr>",
                            "<tr><td>Many Rivers To Cross</td><td>Joe Cocker</td></tr>",
                            "<tr><td>Many Rivers To Cross</td><td>Marcia Hines</td></tr>",
                            "<tr><td>Memories</td><td>Earth &amp; Fire</td></tr>",
                            "<tr><td>Memories</td><td>Maroon 5</td></tr>",
                            "<tr><td>Mercy</td><td>Duffy</td></tr>",
                            "<tr><td>Mercy</td><td>Muse</td></tr>",
                            "<tr><td>Mercy</td><td>Shawn Mendes</td></tr>",
                            "<tr><td>Mexico</td><td>Bob Moore</td></tr>",
                            "<tr><td>Mexico</td><td>Les Humphries Singers</td></tr>",
                            "<tr><td>Mexico</td><td>Zangeres Zonder Naam</td></tr>",
                            "<tr><td>More Than A Woman</td><td>Bee Gees</td></tr>",
                            "<tr><td>More Than A Woman</td><td>Tavares</td></tr>",
                            "<tr><td>Mr. Bojangles</td><td>Robbie Williams</td></tr>",
                            "<tr><td>Mr. Bojangles</td><td>Sammy Davis Jr.</td></tr>",
                            "<tr><td>Mr. Bojangles</td><td>The Nitty Gritty Dirt Band</td></tr>",
                            "<tr><td>My Love</td><td>Kovacs</td></tr>",
                            "<tr><td>My Love</td><td>Paul McCartney &amp; Wings</td></tr>",
                            "<tr><td>My Way</td><td>Frank Sinatra</td></tr>",
                            "<tr><td>My Way</td><td>Sid Vicious</td></tr>",
                            "<tr><td>Needles And Pins</td><td>Smokie</td></tr>",
                            "<tr><td>Needles And Pins</td><td>The Searchers</td></tr>",
                            "<tr><td>Next To Me</td><td>Emeli Sandé</td></tr>",
                            "<tr><td>Next To Me</td><td>Ilse DeLange</td></tr>",
                            "<tr><td>No Surrender</td><td>Bruce Springsteen</td></tr>",
                            "<tr><td>No Surrender</td><td>Kane</td></tr>",
                            "<tr><td>One</td><td>Johnny Cash</td></tr>",
                            "<tr><td>One</td><td>Mary J Blige &amp; U2</td></tr>",
                            "<tr><td>One</td><td>Metallica</td></tr>",
                            "<tr><td>One</td><td>U2</td></tr>",
                            "<tr><td>One Way Ticket</td><td>Eruption</td></tr>",
                            "<tr><td>One Way Ticket</td><td>Neil Sedaka</td></tr>",
                            "<tr><td>Only You</td><td>Platters</td></tr>",
                            "<tr><td>Only You</td><td>The Flying Pickets</td></tr>",
                            "<tr><td>Our House</td><td>Crosby, Stills, Nash &amp; Young</td></tr>",
                            "<tr><td>Our House</td><td>Madness</td></tr>",
                            "<tr><td>Patience</td><td>Guns N' Roses</td></tr>",
                            "<tr><td>Patience</td><td>Take That</td></tr>",
                            "<tr><td>Perfect</td><td>Ed Sheeran</td></tr>",
                            "<tr><td>Perfect</td><td>Fairground Attraction</td></tr>",
                            "<tr><td>Photograph</td><td>Ed Sheeran</td></tr>",
                            "<tr><td>Photograph</td><td>Ringo Starr</td></tr>",
                            "<tr><td>Pied Piper</td><td>Crispian St. Peters</td></tr>",
                            "<tr><td>Pied Piper</td><td>Jets</td></tr>",
                            "<tr><td>Proud Mary</td><td>Creedence Clearwater Revival</td></tr>",
                            "<tr><td>Proud Mary</td><td>Ike &amp; Tina Turner</td></tr>",
                            "<tr><td>Radio</td><td>Corrs</td></tr>",
                            "<tr><td>Radio</td><td>Dolly Dots</td></tr>",
                            "<tr><td>Radio</td><td>Supersister</td></tr>",
                            "<tr><td>Reach Out I'll Be There</td><td>Four Tops</td></tr>",
                            "<tr><td>Reach Out I'll Be There</td><td>Gloria Gaynor</td></tr>",
                            "<tr><td>Ring Of Fire</td><td>Animals &amp; Eric Burdon</td></tr>",
                            "<tr><td>Ring Of Fire</td><td>Johnny Cash</td></tr>",
                            "<tr><td>Roll Over Beethoven</td><td>Chuck Berry</td></tr>",
                            "<tr><td>Roll Over Beethoven</td><td>Electric Light Orchestra</td></tr>",
                            "<tr><td>Rosie</td><td>Claw Boys Claw</td></tr>",
                            "<tr><td>Rosie</td><td>Don Partridge</td></tr>",
                            "<tr><td>Rosie</td><td>Joan Armatrading</td></tr>",
                            "<tr><td>Ruby Tuesday</td><td>Melanie</td></tr>",
                            "<tr><td>Ruby Tuesday</td><td>The Rolling Stones</td></tr>",
                            "<tr><td>Run</td><td>Amy MacDonald</td></tr>",
                            "<tr><td>Run</td><td>Snow Patrol</td></tr>",
                            "<tr><td>Sacrifice</td><td>Anouk</td></tr>",
                            "<tr><td>Sacrifice</td><td>Elton John</td></tr>",
                            "<tr><td>Sailing</td><td>Christopher Cross</td></tr>",
                            "<tr><td>Sailing</td><td>Rod Stewart</td></tr>",
                            "<tr><td>Saturday Night</td><td>Bay City Rollers</td></tr>",
                            "<tr><td>Saturday Night</td><td>Herman Brood &amp; His Wild Romance</td></tr>",
                            "<tr><td>Save A Prayer</td><td>Duran Duran</td></tr>",
                            "<tr><td>Save A Prayer</td><td>Eagles Of Death Metal</td></tr>",
                            "<tr><td>Save Me</td><td>Anouk</td></tr>",
                            "<tr><td>Save Me</td><td>Queen</td></tr>",
                            "<tr><td>Sealed With A Kiss</td><td>Bobby Vinton</td></tr>",
                            "<tr><td>Sealed With A Kiss</td><td>Brian Hyland</td></tr>",
                            "<tr><td>She</td><td>Charles Aznavour</td></tr>",
                            "<tr><td>She</td><td>Elvis Costello</td></tr>",
                            "<tr><td>Shout</td><td>Tears For Fears</td></tr>",
                            "<tr><td>Shout</td><td>The Trammps</td></tr>",
                            "<tr><td>Singing In The Rain</td><td>Gene Kelly</td></tr>",
                            "<tr><td>Singing In The Rain</td><td>Sheila &amp; Black Devotion</td></tr>",
                            "<tr><td>Smoke Gets In Your Eyes</td><td>Blue Haze</td></tr>",
                            "<tr><td>Smoke Gets In Your Eyes</td><td>Platters</td></tr>",
                            "<tr><td>Somebody To Love</td><td>Jefferson Airplane</td></tr>",
                            "<tr><td>Somebody To Love</td><td>Queen</td></tr>",
                            "<tr><td>Something</td><td>Shirley Bassey</td></tr>",
                            "<tr><td>Something</td><td>The Beatles</td></tr>",
                            "<tr><td>Songbird</td><td>Eva Cassidy</td></tr>",
                            "<tr><td>Songbird</td><td>Fleetwood Mac</td></tr>",
                            "<tr><td>Sorry</td><td>Justin Bieber</td></tr>",
                            "<tr><td>Sorry</td><td>Kensington</td></tr>",
                            "<tr><td>Sorry</td><td>Kyteman</td></tr>",
                            "<tr><td>Sorry</td><td>Nothing But Thieves</td></tr>",
                            "<tr><td>Stay</td><td>Rihanna ft. Mikky Ekko</td></tr>",
                            "<tr><td>Stay</td><td>Simply Red</td></tr>",
                            "<tr><td>Stay With Me</td><td>Faces</td></tr>",
                            "<tr><td>Stay With Me</td><td>Sam Smith</td></tr>",
                            "<tr><td>Substitute</td><td>Clout</td></tr>",
                            "<tr><td>Substitute</td><td>The Who</td></tr>",
                            "<tr><td>Summer In The City</td><td>Joe Cocker</td></tr>",
                            "<tr><td>Summer In The City</td><td>Lovin' Spoonful</td></tr>",
                            "<tr><td>Summer Nights</td><td>John Travolta &amp; Olivia Newton-John</td></tr>",
                            "<tr><td>Summer Nights</td><td>Marianne Faithfull</td></tr>",
                            "<tr><td>Summertime</td><td>Billie Holiday</td></tr>",
                            "<tr><td>Summertime</td><td>Billy Stewart</td></tr>",
                            "<tr><td>Summertime</td><td>Brainbox</td></tr>",
                            "<tr><td>Summertime</td><td>Ella Fitzgerald &amp; Louis Armstrong</td></tr>",
                            "<tr><td>Sunrise</td><td>Norah Jones</td></tr>",
                            "<tr><td>Sunrise</td><td>Simply Red</td></tr>",
                            "<tr><td>Suzanne</td><td>Herman van Veen</td></tr>",
                            "<tr><td>Suzanne</td><td>Leonard Cohen</td></tr>",
                            "<tr><td>Suzanne</td><td>VOF de Kunst</td></tr>",
                            "<tr><td>Sweet Jane</td><td>Lou Reed</td></tr>",
                            "<tr><td>Sweet Jane</td><td>Velvet Underground</td></tr>",
                            "<tr><td>The Letter</td><td>Box Tops</td></tr>",
                            "<tr><td>The Letter</td><td>Joe Cocker</td></tr>",
                            "<tr><td>The Look Of Love</td><td>ABC</td></tr>",
                            "<tr><td>The Look Of Love</td><td>Dusty Springfield</td></tr>",
                            "<tr><td>The Man Who Sold The World</td><td>David Bowie</td></tr>",
                            "<tr><td>The Man Who Sold The World</td><td>Lulu</td></tr>",
                            "<tr><td>The Power Of Love</td><td>Céline Dion</td></tr>",
                            "<tr><td>The Power Of Love</td><td>Frankie Goes To Hollywood</td></tr>",
                            "<tr><td>The Power Of Love</td><td>Huey Lewis &amp; the News</td></tr>",
                            "<tr><td>The Power Of Love</td><td>Jennifer Rush</td></tr>",
                            "<tr><td>The Pretender</td><td>Foo Fighters</td></tr>",
                            "<tr><td>The Pretender</td><td>Jackson Browne</td></tr>",
                            "<tr><td>The Sound Of Silence</td><td>Disturbed</td></tr>",
                            "<tr><td>The Sound Of Silence</td><td>Simon &amp; Garfunkel</td></tr>",
                            "<tr><td>The Weight</td><td>Danny Vera</td></tr>",
                            "<tr><td>The Weight</td><td>The Band</td></tr>",
                            "<tr><td>The Windmills Of Your Mind</td><td>Jose Feliciano</td></tr>",
                            "<tr><td>The Windmills Of Your Mind</td><td>Noel Harrison</td></tr>",
                            "<tr><td>Upside Down</td><td>Diana Ross</td></tr>",
                            "<tr><td>Upside Down</td><td>Jack Johnson</td></tr>",
                            "<tr><td>Use Somebody</td><td>Kings Of Leon</td></tr>",
                            "<tr><td>Use Somebody</td><td>Laura Jansen</td></tr>",
                            "<tr><td>Venus</td><td>Bananarama</td></tr>",
                            "<tr><td>Venus</td><td>Shocking Blue</td></tr>",
                            "<tr><td>Voorbij</td><td>Marco Borsato &amp; Do</td></tr>",
                            "<tr><td>Voorbij</td><td>Paul de Leeuw</td></tr>",
                            "<tr><td>War</td><td>Bruce Springsteen</td></tr>",
                            "<tr><td>War</td><td>Kensington</td></tr>",
                            "<tr><td>Wat Zou Je Doen</td><td>Bløf</td></tr>",
                            "<tr><td>Wat Zou Je Doen</td><td>Marco Borsato &amp; Ali B</td></tr>",
                            "<tr><td>What Becomes Of The Broken Hearted</td><td>Colin Blunstone &amp; Dave Stewart</td></tr>",
                            "<tr><td>What Becomes Of The Broken Hearted</td><td>Jimmy Ruffin</td></tr>",
                            "<tr><td>Wheels</td><td>Billy Vaughn</td></tr>",
                            "<tr><td>Wheels</td><td>Foo Fighters</td></tr>",
                            "<tr><td>Wheels</td><td>Jumping Jewels</td></tr>",
                            "<tr><td>When You're Gone</td><td>Bryan Adams &amp; Melanie C</td></tr>",
                            "<tr><td>When You're Gone</td><td>Maggie MacNeal</td></tr>",
                            "<tr><td>Why</td><td>Annie Lennox</td></tr>",
                            "<tr><td>Why</td><td>The Cats</td></tr>",
                            "<tr><td>Wild Horses</td><td>Gino Vannelli</td></tr>",
                            "<tr><td>Wild Horses</td><td>The Rolling Stones</td></tr>",
                            "<tr><td>Wit Licht</td><td>Jeroen van Koningsbrugge</td></tr>",
                            "<tr><td>Wit Licht</td><td>Marco Borsato</td></tr>",
                            "<tr><td>Without You</td><td>Harry Nilsson</td></tr>",
                            "<tr><td>Without You</td><td>Mariah Carey</td></tr>",
                            "<tr><td>Woman</td><td>Anouk</td></tr>",
                            "<tr><td>Woman</td><td>John Lennon</td></tr>",
                            "<tr><td>Woman</td><td>Wolfmother</td></tr>",
                            "<tr><td>Wonderful World</td><td>James Morrison</td></tr>",
                            "<tr><td>Wonderful World</td><td>Sam Cooke</td></tr>",
                            "<tr><td>Words</td><td>Bee Gees</td></tr>",
                            "<tr><td>Words</td><td>Christians</td></tr>",
                            "<tr><td>Words</td><td>F.R. David</td></tr>",
                            "<tr><td>You Can't Hurry Love</td><td>Phil Collins</td></tr>",
                            "<tr><td>You Can't Hurry Love</td><td>The Supremes</td></tr>",
                            "<tr><td>You Really Got Me</td><td>The Kinks</td></tr>",
                            "<tr><td>You Really Got Me</td><td>Van Halen</td></tr>",
                            "<tr><td>You'll Never Walk Alone</td><td>Gerry &amp; The Pacemakers</td></tr>",
                            "<tr><td>You'll Never Walk Alone</td><td>Lee Towers</td></tr>",
                            "<tr><td>You've Got A Friend</td><td>Carole King</td></tr>",
                            "<tr><td>You've Got A Friend</td><td>James Taylor</td></tr>",
                            "</table>"
                        ]
                    }
                }
            ],
            "execution_count": 7
        },
        {
            "cell_type": "markdown",
            "source": [
                "Bepaal welke artiest in 1999 met het grootste aantal liedjes in de Top 2000 stond."
            ],
            "metadata": {
                "azdata_cell_guid": "2a3891d6-fd8c-4333-b9b5-6f863e6eba78"
            }
        },
        {
            "cell_type": "code",
            "source": [
                "SELECT top 1 a.artist, COUNT(a.artist) as aantalkeer_artiest_intop2000\r\n",
                "FROM artist as a \r\n",
                "JOIN song as s on s.artistId = a.artistId\r\n",
                "JOIN listing as l on l.songId=s.songId\r\n",
                "WHERE l.year=1999 \r\n",
                "GROUP BY a.artist \r\n",
                "ORDER BY aantalkeer_artiest_intop2000 DESC\r\n",
                "\r\n",
                "--is top N in SQLT vergelijkbaar met LIMIT bij SQL? "
            ],
            "metadata": {
                "azdata_cell_guid": "5b65a6e8-66df-41c6-aab9-cd4963d9e16b"
            },
            "outputs": [
                {
                    "output_type": "display_data",
                    "data": {
                        "text/html": "(1 row affected)"
                    },
                    "metadata": {}
                },
                {
                    "output_type": "display_data",
                    "data": {
                        "text/html": "Total execution time: 00:00:00.031"
                    },
                    "metadata": {}
                },
                {
                    "output_type": "execute_result",
                    "metadata": {
                        "resultSet": {
                            "id": 0,
                            "batchId": 0,
                            "rowCount": 1,
                            "complete": true,
                            "columnInfo": [
                                {
                                    "isBytes": false,
                                    "isChars": true,
                                    "isSqlVariant": false,
                                    "isUdt": false,
                                    "isXml": false,
                                    "isJson": false,
                                    "sqlDbType": 22,
                                    "isHierarchyId": false,
                                    "isSqlXmlType": false,
                                    "isUnknownType": false,
                                    "isUpdatable": true,
                                    "allowDBNull": false,
                                    "baseCatalogName": null,
                                    "baseColumnName": null,
                                    "baseSchemaName": null,
                                    "baseServerName": null,
                                    "baseTableName": null,
                                    "columnName": "artist",
                                    "columnOrdinal": 0,
                                    "columnSize": 255,
                                    "isAliased": null,
                                    "isAutoIncrement": false,
                                    "isExpression": null,
                                    "isHidden": null,
                                    "isIdentity": false,
                                    "isKey": null,
                                    "isLong": false,
                                    "isReadOnly": false,
                                    "isUnique": false,
                                    "numericPrecision": 255,
                                    "numericScale": 255,
                                    "udtAssemblyQualifiedName": null,
                                    "dataType": "System.String, System.Private.CoreLib, Version=4.0.0.0, Culture=neutral, PublicKeyToken=7cec85d7bea7798e",
                                    "dataTypeName": "varchar"
                                },
                                {
                                    "isBytes": false,
                                    "isChars": false,
                                    "isSqlVariant": false,
                                    "isUdt": false,
                                    "isXml": false,
                                    "isJson": false,
                                    "sqlDbType": 8,
                                    "isHierarchyId": false,
                                    "isSqlXmlType": false,
                                    "isUnknownType": false,
                                    "isUpdatable": false,
                                    "allowDBNull": true,
                                    "baseCatalogName": null,
                                    "baseColumnName": null,
                                    "baseSchemaName": null,
                                    "baseServerName": null,
                                    "baseTableName": null,
                                    "columnName": "aantalkeer_artiest_intop2000",
                                    "columnOrdinal": 1,
                                    "columnSize": 4,
                                    "isAliased": null,
                                    "isAutoIncrement": false,
                                    "isExpression": null,
                                    "isHidden": null,
                                    "isIdentity": false,
                                    "isKey": null,
                                    "isLong": false,
                                    "isReadOnly": true,
                                    "isUnique": false,
                                    "numericPrecision": 10,
                                    "numericScale": 255,
                                    "udtAssemblyQualifiedName": null,
                                    "dataType": "System.Int32, System.Private.CoreLib, Version=4.0.0.0, Culture=neutral, PublicKeyToken=7cec85d7bea7798e",
                                    "dataTypeName": "int"
                                }
                            ],
                            "specialAction": {
                                "none": true,
                                "expectYukonXMLShowPlan": false
                            }
                        }
                    },
                    "execution_count": 14,
                    "data": {
                        "application/vnd.dataresource+json": {
                            "schema": {
                                "fields": [
                                    {
                                        "name": "artist"
                                    },
                                    {
                                        "name": "aantalkeer_artiest_intop2000"
                                    }
                                ]
                            },
                            "data": [
                                {
                                    "0": "The Beatles",
                                    "1": "42"
                                }
                            ]
                        },
                        "text/html": [
                            "<table>",
                            "<tr><th>artist</th><th>aantalkeer_artiest_intop2000</th></tr>",
                            "<tr><td>The Beatles</td><td>42</td></tr>",
                            "</table>"
                        ]
                    }
                }
            ],
            "execution_count": 14
        },
        {
            "cell_type": "markdown",
            "source": [
                "Bepaal voor de groep **ABBA(where)** met **hoeveel songs(count)** ze in de verschillende edities van de **Top 2000(top? of rankconditie)** hebben gestaan. Voor **elk jaar(group by)** dus het totaal aantal ABBA-songs."
            ],
            "metadata": {
                "azdata_cell_guid": "8a07959f-1cce-4fe0-bf20-57a7fcd7e397"
            }
        },
        {
            "cell_type": "code",
            "source": [
                "SELECT COUNT(a.artist) as aantalkeer_artiest_intop2000 , l.year\r\n",
                "FROM artist as a \r\n",
                "JOIN song as s on s.artistId = a.artistId\r\n",
                "JOIN listing as l on l.songId=s.songId\r\n",
                "WHERE a.artist='ABBA' and l.rank<=2000\r\n",
                "GROUP BY l.year\r\n",
                "\r\n",
                "--kan ook TOP 2000 bij SELECT gebruiken en ordenen i.p.v l.rank<=2000"
            ],
            "metadata": {
                "azdata_cell_guid": "f9efc263-2534-41fc-9524-6ba9c7bfdac0"
            },
            "outputs": [
                {
                    "output_type": "display_data",
                    "data": {
                        "text/html": "(22 rows affected)"
                    },
                    "metadata": {}
                },
                {
                    "output_type": "display_data",
                    "data": {
                        "text/html": "Total execution time: 00:00:00.048"
                    },
                    "metadata": {}
                },
                {
                    "output_type": "execute_result",
                    "execution_count": 34,
                    "data": {
                        "application/vnd.dataresource+json": {
                            "schema": {
                                "fields": [
                                    {
                                        "name": "aantalkeer_artiest_intop2000"
                                    },
                                    {
                                        "name": "year"
                                    }
                                ]
                            },
                            "data": [
                                {
                                    "0": "14",
                                    "1": "1999"
                                },
                                {
                                    "0": "19",
                                    "1": "2000"
                                },
                                {
                                    "0": "21",
                                    "1": "2001"
                                },
                                {
                                    "0": "23",
                                    "1": "2002"
                                },
                                {
                                    "0": "21",
                                    "1": "2003"
                                },
                                {
                                    "0": "24",
                                    "1": "2004"
                                },
                                {
                                    "0": "26",
                                    "1": "2005"
                                },
                                {
                                    "0": "24",
                                    "1": "2006"
                                },
                                {
                                    "0": "25",
                                    "1": "2007"
                                },
                                {
                                    "0": "24",
                                    "1": "2008"
                                },
                                {
                                    "0": "24",
                                    "1": "2009"
                                },
                                {
                                    "0": "24",
                                    "1": "2010"
                                },
                                {
                                    "0": "23",
                                    "1": "2011"
                                },
                                {
                                    "0": "23",
                                    "1": "2012"
                                },
                                {
                                    "0": "21",
                                    "1": "2013"
                                },
                                {
                                    "0": "21",
                                    "1": "2014"
                                },
                                {
                                    "0": "20",
                                    "1": "2015"
                                },
                                {
                                    "0": "21",
                                    "1": "2016"
                                },
                                {
                                    "0": "21",
                                    "1": "2017"
                                },
                                {
                                    "0": "22",
                                    "1": "2018"
                                },
                                {
                                    "0": "22",
                                    "1": "2019"
                                },
                                {
                                    "0": "23",
                                    "1": "2020"
                                }
                            ]
                        },
                        "text/html": "<table><tr><th>aantalkeer_artiest_intop2000</th><th>year</th></tr><tr><td>14</td><td>1999</td></tr><tr><td>19</td><td>2000</td></tr><tr><td>21</td><td>2001</td></tr><tr><td>23</td><td>2002</td></tr><tr><td>21</td><td>2003</td></tr><tr><td>24</td><td>2004</td></tr><tr><td>26</td><td>2005</td></tr><tr><td>24</td><td>2006</td></tr><tr><td>25</td><td>2007</td></tr><tr><td>24</td><td>2008</td></tr><tr><td>24</td><td>2009</td></tr><tr><td>24</td><td>2010</td></tr><tr><td>23</td><td>2011</td></tr><tr><td>23</td><td>2012</td></tr><tr><td>21</td><td>2013</td></tr><tr><td>21</td><td>2014</td></tr><tr><td>20</td><td>2015</td></tr><tr><td>21</td><td>2016</td></tr><tr><td>21</td><td>2017</td></tr><tr><td>22</td><td>2018</td></tr><tr><td>22</td><td>2019</td></tr><tr><td>23</td><td>2020</td></tr></table>"
                    },
                    "metadata": {
                        "resultSet": {
                            "id": 0,
                            "batchId": 0,
                            "rowCount": 22,
                            "complete": true,
                            "columnInfo": [
                                {
                                    "isBytes": false,
                                    "isChars": false,
                                    "isSqlVariant": false,
                                    "isUdt": false,
                                    "isXml": false,
                                    "isJson": false,
                                    "sqlDbType": 8,
                                    "isHierarchyId": false,
                                    "isSqlXmlType": false,
                                    "isUnknownType": false,
                                    "isUpdatable": false,
                                    "allowDBNull": true,
                                    "baseCatalogName": null,
                                    "baseColumnName": null,
                                    "baseSchemaName": null,
                                    "baseServerName": null,
                                    "baseTableName": null,
                                    "columnName": "aantalkeer_artiest_intop2000",
                                    "columnOrdinal": 0,
                                    "columnSize": 4,
                                    "isAliased": null,
                                    "isAutoIncrement": false,
                                    "isExpression": null,
                                    "isHidden": null,
                                    "isIdentity": false,
                                    "isKey": null,
                                    "isLong": false,
                                    "isReadOnly": true,
                                    "isUnique": false,
                                    "numericPrecision": 10,
                                    "numericScale": 255,
                                    "udtAssemblyQualifiedName": null,
                                    "dataType": "System.Int32, System.Private.CoreLib, Version=4.0.0.0, Culture=neutral, PublicKeyToken=7cec85d7bea7798e",
                                    "dataTypeName": "int"
                                },
                                {
                                    "isBytes": false,
                                    "isChars": false,
                                    "isSqlVariant": false,
                                    "isUdt": false,
                                    "isXml": false,
                                    "isJson": false,
                                    "sqlDbType": 8,
                                    "isHierarchyId": false,
                                    "isSqlXmlType": false,
                                    "isUnknownType": false,
                                    "isUpdatable": true,
                                    "allowDBNull": false,
                                    "baseCatalogName": null,
                                    "baseColumnName": null,
                                    "baseSchemaName": null,
                                    "baseServerName": null,
                                    "baseTableName": null,
                                    "columnName": "year",
                                    "columnOrdinal": 1,
                                    "columnSize": 4,
                                    "isAliased": null,
                                    "isAutoIncrement": false,
                                    "isExpression": null,
                                    "isHidden": null,
                                    "isIdentity": false,
                                    "isKey": null,
                                    "isLong": false,
                                    "isReadOnly": false,
                                    "isUnique": false,
                                    "numericPrecision": 10,
                                    "numericScale": 255,
                                    "udtAssemblyQualifiedName": null,
                                    "dataType": "System.Int32, System.Private.CoreLib, Version=4.0.0.0, Culture=neutral, PublicKeyToken=7cec85d7bea7798e",
                                    "dataTypeName": "int"
                                }
                            ],
                            "specialAction": {
                                "none": true,
                                "expectYukonXMLShowPlan": false
                            }
                        }
                    }
                }
            ],
            "execution_count": 34
        }
    ]
}
